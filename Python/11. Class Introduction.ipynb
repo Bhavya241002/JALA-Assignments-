{
 "cells": [
  {
   "cell_type": "markdown",
   "id": "fab43a45",
   "metadata": {},
   "source": [
    "### 1.  Construct a class using any methods for employee details using its parameters and print Output.\n"
   ]
  },
  {
   "cell_type": "code",
   "execution_count": 1,
   "id": "10f22212",
   "metadata": {},
   "outputs": [
    {
     "name": "stdout",
     "output_type": "stream",
     "text": [
      "Employee Details:\n",
      "Name: Bhavya\n",
      "Emp_id: 2410\n",
      "Department: IT\n",
      "Salary: 50000\n"
     ]
    }
   ],
   "source": [
    "class Employee:\n",
    "    def __init__(self, name, emp_id, department,salary):\n",
    "        self.name = name\n",
    "        self.emp_id = emp_id\n",
    "        self.department = department\n",
    "        self.salary = salary\n",
    "        \n",
    "    def print_details(self):\n",
    "        print(f'Employee Details:')\n",
    "        print(f'Name: {self.name}')\n",
    "        print(f'Emp_id: {self.emp_id}')\n",
    "        print(f'Department: {self.department}')\n",
    "        print(f'Salary: {self.salary}')\n",
    "        \n",
    "if __name__ == '__main__':\n",
    "    employee = Employee(name = 'Bhavya', emp_id = '2410', department = 'IT', salary = '50000')\n",
    "    \n",
    "    employee.print_details()"
   ]
  },
  {
   "cell_type": "markdown",
   "id": "d68189bb",
   "metadata": {},
   "source": [
    "###  2. Write a program using overloading class constructor.\n"
   ]
  },
  {
   "cell_type": "code",
   "execution_count": 2,
   "id": "d5d179f4",
   "metadata": {},
   "outputs": [
    {
     "name": "stdout",
     "output_type": "stream",
     "text": [
      "Employee Details:\n",
      "Name: Bhavya\n",
      "Emp_id: 2410\n",
      "Department: IT\n",
      "Salary: 50000\n",
      "\n",
      "Employee Details:\n",
      "Name: Lowkya\n",
      "Emp_id: 2001\n",
      "Department: HR\n",
      "Salary: 0\n",
      "\n",
      "Employee Details:\n",
      "Name: Sun\n",
      "Emp_id: 123\n",
      "Department: Sales\n",
      "Salary: 0\n"
     ]
    }
   ],
   "source": [
    "class Employee:\n",
    "    def __init__(self, name = 'Sun', emp_id = '123', department = 'Sales',salary = '0'):\n",
    "        self.name = name\n",
    "        self.emp_id = emp_id\n",
    "        self.department = department\n",
    "        self.salary = salary\n",
    "        \n",
    "    def print_details(self):\n",
    "        print(f'Employee Details:')\n",
    "        print(f'Name: {self.name}')\n",
    "        print(f'Emp_id: {self.emp_id}')\n",
    "        print(f'Department: {self.department}')\n",
    "        print(f'Salary: {self.salary}')\n",
    "        \n",
    "if __name__ == '__main__':\n",
    "    \n",
    "    employee1 = Employee(name = 'Bhavya', emp_id = '2410', department = 'IT', salary = '50000')\n",
    "    employee1.print_details()\n",
    "    print()\n",
    "\n",
    "    employee2 = Employee(name = 'Lowkya', emp_id = '2001', department = 'HR')\n",
    "    employee2.print_details()\n",
    "    print()\n",
    "\n",
    "    employee3 = Employee()\n",
    "    employee3.print_details()"
   ]
  },
  {
   "cell_type": "markdown",
   "id": "807cf9dd",
   "metadata": {},
   "source": [
    "###  3. Create a Car class with three class members and two fields and one method \n"
   ]
  },
  {
   "cell_type": "code",
   "execution_count": 3,
   "id": "4c3d5366",
   "metadata": {},
   "outputs": [
    {
     "name": "stdout",
     "output_type": "stream",
     "text": [
      "This is a Red Sedan from India with 4 wheels that runs on Gasoline.\n"
     ]
    }
   ],
   "source": [
    "class Car:\n",
    "    manufacturer = 'India'\n",
    "    num_wheels = 4               # 3 class members\n",
    "    fuel_type = 'Gasoline'\n",
    "    \n",
    "    def __init__(self, color,model):\n",
    "        self.color = color        \n",
    "        self.model = model       # 2 fields\n",
    "          \n",
    "    def info(self):              # 1 Method\n",
    "        return f'This is a {self.color} {self.model} from {Car.manufacturer} with {car.num_wheels} wheels that runs on {Car.fuel_type}.'\n",
    "\n",
    "car = Car('Red','Sedan')\n",
    "print(car.info())"
   ]
  },
  {
   "cell_type": "markdown",
   "id": "f17af224",
   "metadata": {},
   "source": [
    "###  4. Create an object of the Car class, with the name myObj. Then we print the value of the fields color and maxSpeed.\n"
   ]
  },
  {
   "cell_type": "code",
   "execution_count": 4,
   "id": "5a4d9c41",
   "metadata": {},
   "outputs": [
    {
     "name": "stdout",
     "output_type": "stream",
     "text": [
      "Color: Red\n",
      "Max Speed: 180\n"
     ]
    }
   ],
   "source": [
    "class Car:\n",
    "    manufacturer = 'India'\n",
    "    num_wheels = 4\n",
    "    fuel_type = 'Gasoline'\n",
    "\n",
    "    def __init__(self, color, model, maxSpeed): \n",
    "        self.color = color\n",
    "        self.model = model\n",
    "        self.maxSpeed = maxSpeed\n",
    "\n",
    "    def display_info(self):\n",
    "        return f'This is a {self.color} {self.model} from {Car.manufacturer} with {Car.num_wheels} wheels that runs on {Car.fuel_type}.'\n",
    "\n",
    "# Create an object of the Car class\n",
    "myObj = Car('Red', 'Sedan', 180)\n",
    "\n",
    "# Print the value of the fields color and maxSpeed\n",
    "print(\"Color:\", myObj.color)\n",
    "print(\"Max Speed:\", myObj.maxSpeed)"
   ]
  },
  {
   "cell_type": "markdown",
   "id": "8e2c3285",
   "metadata": {},
   "source": [
    "###  5. Write a program on creating multiple objects of one class "
   ]
  },
  {
   "cell_type": "code",
   "execution_count": 5,
   "id": "dd695501",
   "metadata": {},
   "outputs": [
    {
     "name": "stdout",
     "output_type": "stream",
     "text": [
      "Buddy says: Woof!\n",
      "Max says: Woof!\n",
      "Bella says: Woof!\n"
     ]
    }
   ],
   "source": [
    "class Dog:\n",
    "    def __init__(self, name, breed):\n",
    "        self.name = name\n",
    "        self.breed = breed\n",
    "\n",
    "    def bark(self):\n",
    "        print(f\"{self.name} says: Woof!\")\n",
    "\n",
    "# multiple instances (objects) of the 'Dog' class\n",
    "dog1 = Dog(\"Buddy\", \"Golden Retriever\")\n",
    "dog2 = Dog(\"Max\", \"Beagle\")\n",
    "dog3 = Dog(\"Bella\", \"Poodle\")\n",
    "\n",
    "dogs = [dog1, dog2, dog3]\n",
    "\n",
    "# Iterate through the list and call the bark method for each dog\n",
    "for dog in dogs:\n",
    "    dog.bark()\n"
   ]
  },
  {
   "cell_type": "code",
   "execution_count": null,
   "id": "e70ba480",
   "metadata": {},
   "outputs": [],
   "source": []
  }
 ],
 "metadata": {
  "kernelspec": {
   "display_name": "Python 3 (ipykernel)",
   "language": "python",
   "name": "python3"
  },
  "language_info": {
   "codemirror_mode": {
    "name": "ipython",
    "version": 3
   },
   "file_extension": ".py",
   "mimetype": "text/x-python",
   "name": "python",
   "nbconvert_exporter": "python",
   "pygments_lexer": "ipython3",
   "version": "3.10.9"
  }
 },
 "nbformat": 4,
 "nbformat_minor": 5
}
