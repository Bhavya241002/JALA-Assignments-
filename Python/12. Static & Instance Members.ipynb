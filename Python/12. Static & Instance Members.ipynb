{
 "cells": [
  {
   "cell_type": "markdown",
   "id": "b7c68119",
   "metadata": {},
   "source": [
    "### 1. Define a static variable and access that through class name.\n"
   ]
  },
  {
   "cell_type": "code",
   "execution_count": 7,
   "id": "d06c1e78",
   "metadata": {},
   "outputs": [
    {
     "name": "stdout",
     "output_type": "stream",
     "text": [
      "2410\n"
     ]
    }
   ],
   "source": [
    "class variable:\n",
    "    static_var = 2410\n",
    "\n",
    "print(variable.static_var)"
   ]
  },
  {
   "cell_type": "markdown",
   "id": "87fa740b",
   "metadata": {},
   "source": [
    "### 2. Define a static method and access that through a instance\n"
   ]
  },
  {
   "cell_type": "code",
   "execution_count": 8,
   "id": "f0fe9346",
   "metadata": {},
   "outputs": [
    {
     "name": "stdout",
     "output_type": "stream",
     "text": [
      "Hello World!\n"
     ]
    }
   ],
   "source": [
    "class variable:\n",
    "    @staticmethod\n",
    "    def static_method():\n",
    "        print(\"Hello World!\")\n",
    "\n",
    "my_instance = variable()  # instance of the class\n",
    "\n",
    "my_instance.static_method()"
   ]
  },
  {
   "cell_type": "markdown",
   "id": "26319b73",
   "metadata": {},
   "source": [
    "### 3. Define a static and instance variable constructors and invoke the instance constructor\n"
   ]
  },
  {
   "cell_type": "code",
   "execution_count": 14,
   "id": "ede058c4",
   "metadata": {},
   "outputs": [
    {
     "name": "stdout",
     "output_type": "stream",
     "text": [
      "Static\n",
      "Instance\n"
     ]
    }
   ],
   "source": [
    "class Variable:\n",
    "    static_var = 'Static'\n",
    "\n",
    "    def __init__(self, instance_var):\n",
    "        self.instance_var = instance_var\n",
    "\n",
    "instance = Variable('Instance')\n",
    "\n",
    "print(Variable.static_var)\n",
    "print(instance.instance_var)"
   ]
  },
  {
   "cell_type": "markdown",
   "id": "609daf18",
   "metadata": {},
   "source": [
    "### 4. Define a static variable and change within the class"
   ]
  },
  {
   "cell_type": "code",
   "execution_count": 20,
   "id": "cf137fcc",
   "metadata": {},
   "outputs": [
    {
     "name": "stdout",
     "output_type": "stream",
     "text": [
      "x value\n",
      "y value\n",
      "y value\n",
      "z value\n",
      "z value\n"
     ]
    }
   ],
   "source": [
    "class Variable:\n",
    "    static_var = 'x value'\n",
    "    \n",
    "    @classmethod\n",
    "    def change_s_var(self,new_value):\n",
    "        self.static_var = new_value\n",
    "        \n",
    "print(Variable.static_var)\n",
    "\n",
    "Variable.change_s_var('y value')\n",
    "print(Variable.static_var)\n",
    "\n",
    "## Creating an instance\n",
    "instance = Variable()\n",
    "print(instance.static_var)\n",
    "\n",
    "## change static var by instance\n",
    "instance.change_s_var('z value')\n",
    "\n",
    "print(Variable.static_var)\n",
    "print(instance.static_var)"
   ]
  },
  {
   "cell_type": "code",
   "execution_count": null,
   "id": "bddd4dfc",
   "metadata": {},
   "outputs": [],
   "source": []
  }
 ],
 "metadata": {
  "kernelspec": {
   "display_name": "Python 3 (ipykernel)",
   "language": "python",
   "name": "python3"
  },
  "language_info": {
   "codemirror_mode": {
    "name": "ipython",
    "version": 3
   },
   "file_extension": ".py",
   "mimetype": "text/x-python",
   "name": "python",
   "nbconvert_exporter": "python",
   "pygments_lexer": "ipython3",
   "version": "3.10.9"
  }
 },
 "nbformat": 4,
 "nbformat_minor": 5
}
