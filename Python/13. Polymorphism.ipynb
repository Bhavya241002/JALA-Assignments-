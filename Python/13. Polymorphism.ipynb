{
 "cells": [
  {
   "cell_type": "markdown",
   "id": "48b1cf76",
   "metadata": {},
   "source": [
    "### 1. Write a program on A class has two methods with the same name \"Add\" but with different input parameters (the first method has three parameters and the second method has two parameters) "
   ]
  },
  {
   "cell_type": "code",
   "execution_count": 7,
   "id": "41b26712",
   "metadata": {},
   "outputs": [
    {
     "name": "stdout",
     "output_type": "stream",
     "text": [
      "Sum of three numbers is: 6\n",
      "Sum of two numbers is: 3\n"
     ]
    }
   ],
   "source": [
    "class Calculator:\n",
    "    def Add(self, a, b, c=None):\n",
    "        if c is not None:\n",
    "            return a+b+c\n",
    "        else:\n",
    "            return a+b\n",
    "        \n",
    "## Example\n",
    "cal = Calculator()\n",
    "\n",
    "sum1 = cal.Add(1,2,3)\n",
    "print(f'Sum of three numbers is: {sum1}')\n",
    "\n",
    "sum2 = cal.Add(1,2)\n",
    "print(f'Sum of two numbers is: {sum2}')"
   ]
  },
  {
   "cell_type": "markdown",
   "id": "719017a9",
   "metadata": {},
   "source": [
    "### 2. Write a program on Runtime polymorphism \n"
   ]
  },
  {
   "cell_type": "code",
   "execution_count": 6,
   "id": "6c629824",
   "metadata": {},
   "outputs": [
    {
     "name": "stdout",
     "output_type": "stream",
     "text": [
      "sound\n",
      "bark\n",
      "meow\n"
     ]
    }
   ],
   "source": [
    "class Animal:\n",
    "    def sound(self):\n",
    "        return 'sound'\n",
    "    \n",
    "## Example\n",
    "class Dog(Animal):\n",
    "    def sound(self):\n",
    "        return 'bark'\n",
    "    \n",
    "class Cat(Animal):\n",
    "    def sound(self):\n",
    "        return 'meow'\n",
    "    \n",
    "animals = [Animal(), Dog(), Cat()]\n",
    "\n",
    "for i in animals:\n",
    "    print(i.sound())"
   ]
  },
  {
   "cell_type": "markdown",
   "id": "9e725fec",
   "metadata": {},
   "source": [
    "### 3. Write a program on taking one method with same but different signature in the methods \n"
   ]
  },
  {
   "cell_type": "code",
   "execution_count": 12,
   "id": "a232929e",
   "metadata": {},
   "outputs": [
    {
     "name": "stdout",
     "output_type": "stream",
     "text": [
      "5\n",
      "10\n",
      "15\n"
     ]
    }
   ],
   "source": [
    "class Calculator:\n",
    "    def Add(self,*args):\n",
    "        return sum(args)\n",
    "## Example\n",
    "cal = Calculator()\n",
    "print(cal.Add(2,3))\n",
    "print(cal.Add(5,5))\n",
    "print(cal.Add(5,10))"
   ]
  }
 ],
 "metadata": {
  "kernelspec": {
   "display_name": "Python 3 (ipykernel)",
   "language": "python",
   "name": "python3"
  },
  "language_info": {
   "codemirror_mode": {
    "name": "ipython",
    "version": 3
   },
   "file_extension": ".py",
   "mimetype": "text/x-python",
   "name": "python",
   "nbconvert_exporter": "python",
   "pygments_lexer": "ipython3",
   "version": "3.10.9"
  }
 },
 "nbformat": 4,
 "nbformat_minor": 5
}
