{
 "cells": [
  {
   "cell_type": "markdown",
   "id": "13d1f05f",
   "metadata": {},
   "source": [
    "### 1. Define a program on overloading by changing the Number of parameters.\n"
   ]
  },
  {
   "cell_type": "code",
   "execution_count": 1,
   "id": "3d04070e",
   "metadata": {},
   "outputs": [
    {
     "name": "stdout",
     "output_type": "stream",
     "text": [
      "Sum of 9, 8 and 7 is: 24\n",
      "Sum of 10, 20 and 30 is: 60\n",
      "Sum of 13, 21 and 42 is: 76\n"
     ]
    }
   ],
   "source": [
    "class Calculator:\n",
    "    def Add(self,*args):\n",
    "        return sum(args)\n",
    "## Example\n",
    "\n",
    "cal = Calculator()\n",
    "print(f'Sum of 9, 8 and 7 is: {cal.Add(9,8,7)}')\n",
    "print(f'Sum of 10, 20 and 30 is: {cal.Add(10,20,30)}')\n",
    "print(f'Sum of 13, 21 and 42 is: {cal.Add(13,21,42)}')"
   ]
  },
  {
   "cell_type": "markdown",
   "id": "8138b114",
   "metadata": {},
   "source": [
    "### 2. Define a program on changing the order of parameters using method overloading.\n"
   ]
  },
  {
   "cell_type": "code",
   "execution_count": 15,
   "id": "276c5f3e",
   "metadata": {},
   "outputs": [
    {
     "name": "stdout",
     "output_type": "stream",
     "text": [
      "Integer: 6, String: Number\n",
      "String: Hello, Integer: 6\n"
     ]
    }
   ],
   "source": [
    "class overload:\n",
    "    def order(self, a, b):\n",
    "        if isinstance(a, int):\n",
    "            print(f'Integer: {a}, String: {b}')\n",
    "        else:\n",
    "            print(f'String: {a}, Integer: {b}')\n",
    "if __name__ == '__main__':\n",
    "    example = overload()\n",
    "    \n",
    "    example.order(6, 'Number')\n",
    "    example.order('Hello',6)"
   ]
  },
  {
   "cell_type": "markdown",
   "id": "d1d64b7e",
   "metadata": {},
   "source": [
    "### 3.Define a program on a function Sum() that accepts values as a parameter and print their addition.\n"
   ]
  },
  {
   "cell_type": "code",
   "execution_count": 8,
   "id": "5eaa8025",
   "metadata": {},
   "outputs": [
    {
     "name": "stdout",
     "output_type": "stream",
     "text": [
      "The sum is: 11\n"
     ]
    }
   ],
   "source": [
    "def Sum(*args):\n",
    "    total = sum(args)\n",
    "    print(f'The sum is: {total}')\n",
    "Sum(5,6) "
   ]
  },
  {
   "cell_type": "markdown",
   "id": "10a6d9ac",
   "metadata": {},
   "source": [
    "### 4. Define a program on a function Division() that accepts multiple values as a parameter and print their divisor"
   ]
  },
  {
   "cell_type": "code",
   "execution_count": 14,
   "id": "1691cbaf",
   "metadata": {},
   "outputs": [
    {
     "name": "stdout",
     "output_type": "stream",
     "text": [
      "6 divided by 3 is: 2.0\n",
      "64 divided by 8 is: 8.0\n",
      "64 divided by 4 is: 16.0\n"
     ]
    }
   ],
   "source": [
    "def Division(*args):\n",
    "    if len(args)<2:\n",
    "        print('Enter any two numbers.')\n",
    "        return\n",
    "    dividend = args[0]\n",
    "    for divisor in args[1:]:\n",
    "        if divisor ==0:\n",
    "            print('Error: Denominator should not be zero')\n",
    "            return\n",
    "        print(f'{dividend} divided by {divisor} is: {dividend/divisor}')\n",
    "\n",
    "Division(6,3)\n",
    "Division(64,8,4)"
   ]
  },
  {
   "cell_type": "code",
   "execution_count": null,
   "id": "13a4eca1",
   "metadata": {},
   "outputs": [],
   "source": []
  }
 ],
 "metadata": {
  "kernelspec": {
   "display_name": "Python 3 (ipykernel)",
   "language": "python",
   "name": "python3"
  },
  "language_info": {
   "codemirror_mode": {
    "name": "ipython",
    "version": 3
   },
   "file_extension": ".py",
   "mimetype": "text/x-python",
   "name": "python",
   "nbconvert_exporter": "python",
   "pygments_lexer": "ipython3",
   "version": "3.10.9"
  }
 },
 "nbformat": 4,
 "nbformat_minor": 5
}
