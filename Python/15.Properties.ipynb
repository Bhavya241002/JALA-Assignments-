{
 "cells": [
  {
   "cell_type": "markdown",
   "id": "9e707076",
   "metadata": {},
   "source": [
    "### 1. Write a program on illustrating the read-only property by taking as class Employee"
   ]
  },
  {
   "cell_type": "code",
   "execution_count": 2,
   "id": "85783b3d",
   "metadata": {},
   "outputs": [
    {
     "name": "stdout",
     "output_type": "stream",
     "text": [
      "Employee Name: Bhavya\n",
      "Employee Salary: 600000\n"
     ]
    }
   ],
   "source": [
    "class Employee:\n",
    "    def __init__(self, name, salary):\n",
    "        self.name = name\n",
    "        self.salary = salary\n",
    "    def name(self):\n",
    "        return self.name\n",
    "    def salary(self):\n",
    "        return self.salary\n",
    "    \n",
    "if __name__ == '__main__':\n",
    "    emp = Employee('Bhavya', 600000)\n",
    "    print(f\"Employee Name: {emp.name}\")\n",
    "    print(f\"Employee Salary: {emp.salary}\")"
   ]
  },
  {
   "cell_type": "markdown",
   "id": "46d2f161",
   "metadata": {},
   "source": [
    "### 3. Create a class with name EmployeeModel with 5 properties EmpId int, EmpName string, EmailId string, Salary float, IsEmployeeActive bool"
   ]
  },
  {
   "cell_type": "code",
   "execution_count": 24,
   "id": "7ea1b634",
   "metadata": {},
   "outputs": [
    {
     "name": "stdout",
     "output_type": "stream",
     "text": [
      "Employee ID: 2410\n",
      "Employee name: Bhavya\n",
      "Email ID: bhavya@gmail.com\n",
      "Salary: 600000\n",
      "Employee is active: False\n",
      "\n",
      "Updated Employee ID: 2002\n",
      "Updated employee active status: True\n"
     ]
    }
   ],
   "source": [
    "class EmployeeModel:\n",
    "    def __init__(self, emp_id: int, emp_name: str, email_id: str, salary: float, is_emp_active: bool):\n",
    "        self.emp_id = emp_id\n",
    "        self.emp_name = emp_name\n",
    "        self.email_id = email_id\n",
    "        self.salary = salary\n",
    "        self.is_emp_active = is_emp_active\n",
    "\n",
    "if __name__ == '__main__':\n",
    "    emp = EmployeeModel(emp_id=2410, emp_name='Bhavya', email_id='bhavya@gmail.com', salary=600000, is_emp_active=False)\n",
    "\n",
    "    print(f'Employee ID: {emp.emp_id}')\n",
    "    print(f'Employee name: {emp.emp_name}')\n",
    "    print(f'Email ID: {emp.email_id}')\n",
    "    print(f'Salary: {emp.salary}')\n",
    "    print(f'Employee is active: {emp.is_emp_active}')\n",
    "    print()\n",
    "\n",
    "    emp.is_emp_active = True\n",
    "    emp.emp_id = 2002\n",
    "    print(f'Updated Employee ID: {emp.emp_id}')\n",
    "    print(f'Updated employee active status: {emp.is_emp_active}')"
   ]
  },
  {
   "cell_type": "markdown",
   "id": "12f27393",
   "metadata": {},
   "source": [
    "### 4. Create an object for the above EmployeeModel and assign the values to all properties and print each property on console"
   ]
  },
  {
   "cell_type": "code",
   "execution_count": 26,
   "id": "a780c0b7",
   "metadata": {},
   "outputs": [
    {
     "name": "stdout",
     "output_type": "stream",
     "text": [
      "Employee ID: 2410\n",
      "Employee name: Bhavya\n",
      "Email ID: bhavya@gmail.com\n",
      "Salary: 600000\n",
      "Employee is active: True\n"
     ]
    }
   ],
   "source": [
    "class EmployeeModel:\n",
    "    def __init__(self, emp_id: int, emp_name: str, email_id: str, salary: float, is_emp_active: bool):\n",
    "        self.emp_id = emp_id\n",
    "        self.emp_name = emp_name\n",
    "        self.email_id = email_id\n",
    "        self.salary = salary\n",
    "        self.is_emp_active = is_emp_active\n",
    "\n",
    "if __name__ == '__main__':\n",
    "    emp = EmployeeModel(emp_id=2410, emp_name='Bhavya', email_id='bhavya@gmail.com', salary=600000, is_emp_active=True)\n",
    "\n",
    "    print(f'Employee ID: {emp.emp_id}')\n",
    "    print(f'Employee name: {emp.emp_name}')\n",
    "    print(f'Email ID: {emp.email_id}')\n",
    "    print(f'Salary: {emp.salary}')\n",
    "    print(f'Employee is active: {emp.is_emp_active}')"
   ]
  },
  {
   "cell_type": "markdown",
   "id": "ad02666b",
   "metadata": {},
   "source": [
    "### 5. Create another object for the above EmployeeModel and assign different values to all properties and print each property on consol"
   ]
  },
  {
   "cell_type": "code",
   "execution_count": 28,
   "id": "beb2d51f",
   "metadata": {},
   "outputs": [
    {
     "name": "stdout",
     "output_type": "stream",
     "text": [
      "Employee ID: 2410\n",
      "Employee name: Bhavya\n",
      "Email ID: bhavya@gmail.com\n",
      "Salary: 600000\n",
      "Employee is active: True\n",
      "\n",
      "Employee ID: 2104\n",
      "Employee name: Lowkya\n",
      "Email ID: lowkya@gmail.com\n",
      "Salary: 600000\n",
      "Employee is active: True\n",
      "\n"
     ]
    }
   ],
   "source": [
    "class EmployeeModel:\n",
    "    def __init__(self, emp_id: int, emp_name: str, email_id: str, salary: float, is_emp_active: bool):\n",
    "        self.emp_id = emp_id\n",
    "        self.emp_name = emp_name\n",
    "        self.email_id = email_id\n",
    "        self.salary = salary\n",
    "        self.is_emp_active = is_emp_active\n",
    "\n",
    "if __name__ == '__main__':\n",
    "    emp1 = EmployeeModel(emp_id=2410, emp_name='Bhavya', email_id='bhavya@gmail.com', salary=600000, is_emp_active=True)\n",
    "\n",
    "    print(f'Employee ID: {emp1.emp_id}')\n",
    "    print(f'Employee name: {emp1.emp_name}')\n",
    "    print(f'Email ID: {emp1.email_id}')\n",
    "    print(f'Salary: {emp1.salary}')\n",
    "    print(f'Employee is active: {emp1.is_emp_active}')\n",
    "    print()\n",
    "    \n",
    "    emp2 = EmployeeModel(emp_id=2104, emp_name='Lowkya', email_id='lowkya@gmail.com', salary=600000, is_emp_active=True)\n",
    "    print(f'Employee ID: {emp2.emp_id}')\n",
    "    print(f'Employee name: {emp2.emp_name}')\n",
    "    print(f'Email ID: {emp2.email_id}')\n",
    "    print(f'Salary: {emp2.salary}')\n",
    "    print(f'Employee is active: {emp2.is_emp_active}')\n",
    "    print()"
   ]
  },
  {
   "cell_type": "code",
   "execution_count": null,
   "id": "fa9e9fef",
   "metadata": {},
   "outputs": [],
   "source": []
  },
  {
   "cell_type": "code",
   "execution_count": null,
   "id": "2c182f2e",
   "metadata": {},
   "outputs": [],
   "source": []
  }
 ],
 "metadata": {
  "kernelspec": {
   "display_name": "Python 3 (ipykernel)",
   "language": "python",
   "name": "python3"
  },
  "language_info": {
   "codemirror_mode": {
    "name": "ipython",
    "version": 3
   },
   "file_extension": ".py",
   "mimetype": "text/x-python",
   "name": "python",
   "nbconvert_exporter": "python",
   "pygments_lexer": "ipython3",
   "version": "3.10.9"
  }
 },
 "nbformat": 4,
 "nbformat_minor": 5
}
