{
 "cells": [
  {
   "cell_type": "markdown",
   "id": "237a2f3d",
   "metadata": {},
   "source": [
    "### 1. Write a program to show the use of public Access Modifier \n",
    "\n",
    "> Ex:\n",
    "Input :\n",
    "Details of student\n",
    "Studentid , StudentName\n",
    "Output :\n",
    "Studentid: 101\n",
    "StudentName: \"santhi\""
   ]
  },
  {
   "cell_type": "code",
   "execution_count": 3,
   "id": "142df8ba",
   "metadata": {},
   "outputs": [
    {
     "name": "stdout",
     "output_type": "stream",
     "text": [
      "Employee Name: Bhavya\n"
     ]
    }
   ],
   "source": [
    "class Employee:\n",
    "    def __init__(self, name):\n",
    "        self.name = name\n",
    "\n",
    "    def display_name(self):\n",
    "        print(f\"Employee Name: {self.name}\")\n",
    "\n",
    "Name = Employee(\"Bhavya\")\n",
    "Name.display_name()\n"
   ]
  },
  {
   "cell_type": "markdown",
   "id": "8c9c2a25",
   "metadata": {},
   "source": [
    "### 2. Write a program on protected access modifier using one method \n",
    "> Ex:\n",
    "> Input :\n",
    "> Enter value of x\n",
    "> Output :"
   ]
  },
  {
   "cell_type": "code",
   "execution_count": 5,
   "id": "cb08235f",
   "metadata": {},
   "outputs": [
    {
     "name": "stdout",
     "output_type": "stream",
     "text": [
      "Enter value of x: 6\n",
      "Value of x: 6\n"
     ]
    }
   ],
   "source": [
    "class BaseClass:\n",
    "    def set_value(self, value):\n",
    "        self.x = value\n",
    "\n",
    "class DerivedClass(BaseClass):\n",
    "    def set_and_display_value(self, value):\n",
    "        self.set_value(value)\n",
    "        print(f\"Value of x: {self.x}\")\n",
    "\n",
    "derived = DerivedClass()\n",
    "value = int(input(\"Enter value of x: \"))\n",
    "derived.set_and_display_value(value)"
   ]
  },
  {
   "cell_type": "markdown",
   "id": "d30b7ff8",
   "metadata": {},
   "source": [
    "### 3. Write a program on private access modifier "
   ]
  },
  {
   "cell_type": "code",
   "execution_count": 7,
   "id": "8085aa5f",
   "metadata": {},
   "outputs": [
    {
     "name": "stdout",
     "output_type": "stream",
     "text": [
      "Current Balance: 6000\n"
     ]
    }
   ],
   "source": [
    "class Account:\n",
    "    def __init__(self, balance):\n",
    "        self.__balance = balance ## Private attribute\n",
    "        \n",
    "    def deposite(self, amount):\n",
    "        self.__balance += amount\n",
    "        \n",
    "    def display_balance(self):\n",
    "        print(f'Current Balance: {self.__balance}')\n",
    "        \n",
    "account = Account(5000)\n",
    "account.deposite(1000)\n",
    "account.display_balance()"
   ]
  }
 ],
 "metadata": {
  "kernelspec": {
   "display_name": "Python 3 (ipykernel)",
   "language": "python",
   "name": "python3"
  },
  "language_info": {
   "codemirror_mode": {
    "name": "ipython",
    "version": 3
   },
   "file_extension": ".py",
   "mimetype": "text/x-python",
   "name": "python",
   "nbconvert_exporter": "python",
   "pygments_lexer": "ipython3",
   "version": "3.10.9"
  }
 },
 "nbformat": 4,
 "nbformat_minor": 5
}
