{
 "cells": [
  {
   "cell_type": "markdown",
   "id": "18d55de7",
   "metadata": {},
   "source": [
    "### 1. Write any 5 Properties of List   "
   ]
  },
  {
   "cell_type": "code",
   "execution_count": null,
   "id": "715e82a0",
   "metadata": {},
   "outputs": [],
   "source": [
    "1. Mutable\n",
    "2. Ordered\n",
    "3. Allows Duplicates\n",
    "4. Dynamic Size"
   ]
  },
  {
   "cell_type": "markdown",
   "id": "0e89d760",
   "metadata": {},
   "source": [
    "### 2. Write any 5 methods of List   "
   ]
  },
  {
   "cell_type": "code",
   "execution_count": 10,
   "id": "e0ba63a9",
   "metadata": {},
   "outputs": [
    {
     "data": {
      "text/plain": [
       "[1, 3, 4, 2, 5]"
      ]
     },
     "execution_count": 10,
     "metadata": {},
     "output_type": "execute_result"
    }
   ],
   "source": [
    "## append()\n",
    "l = [1,3,4,2]\n",
    "l.append(5)\n",
    "l"
   ]
  },
  {
   "cell_type": "code",
   "execution_count": 12,
   "id": "8ff93e85",
   "metadata": {},
   "outputs": [
    {
     "data": {
      "text/plain": [
       "[1, 2, 3, 4]"
      ]
     },
     "execution_count": 12,
     "metadata": {},
     "output_type": "execute_result"
    }
   ],
   "source": [
    "## sort()\n",
    "l = [1,3,4,2]\n",
    "l.sort()\n",
    "l"
   ]
  },
  {
   "cell_type": "code",
   "execution_count": 18,
   "id": "efdf8abe",
   "metadata": {},
   "outputs": [
    {
     "data": {
      "text/plain": [
       "[1, 3, 2]"
      ]
     },
     "execution_count": 18,
     "metadata": {},
     "output_type": "execute_result"
    }
   ],
   "source": [
    "## pop()\n",
    "l = [1,3,4,2]\n",
    "l.pop(2)\n",
    "l"
   ]
  },
  {
   "cell_type": "code",
   "execution_count": 19,
   "id": "db36415a",
   "metadata": {},
   "outputs": [
    {
     "data": {
      "text/plain": [
       "[1, 3, 4]"
      ]
     },
     "execution_count": 19,
     "metadata": {},
     "output_type": "execute_result"
    }
   ],
   "source": [
    "## remove()\n",
    "l = [1,3,4,2]\n",
    "l.remove(2)\n",
    "l"
   ]
  },
  {
   "cell_type": "code",
   "execution_count": 22,
   "id": "86b3ba0f",
   "metadata": {},
   "outputs": [
    {
     "data": {
      "text/plain": [
       "3"
      ]
     },
     "execution_count": 22,
     "metadata": {},
     "output_type": "execute_result"
    }
   ],
   "source": [
    "## index()\n",
    "l = [1,3,4,2]\n",
    "l.index(2)"
   ]
  },
  {
   "cell_type": "markdown",
   "id": "ba235633",
   "metadata": {},
   "source": [
    "### 3. Create an integer list and add any 5 integers to this list   "
   ]
  },
  {
   "cell_type": "code",
   "execution_count": 23,
   "id": "e9b7940f",
   "metadata": {},
   "outputs": [
    {
     "data": {
      "text/plain": [
       "[1, 2, 3, 4, 5]"
      ]
     },
     "execution_count": 23,
     "metadata": {},
     "output_type": "execute_result"
    }
   ],
   "source": [
    "l = []\n",
    "l.append(1)\n",
    "l.append(2)\n",
    "l.append(3)\n",
    "l.append(4)\n",
    "l.append(5)\n",
    "l"
   ]
  },
  {
   "cell_type": "markdown",
   "id": "6c49a2e3",
   "metadata": {},
   "source": [
    "### 4. Print the integer elements in the above list using for  loop   \n"
   ]
  },
  {
   "cell_type": "code",
   "execution_count": 24,
   "id": "667437f7",
   "metadata": {},
   "outputs": [
    {
     "data": {
      "text/plain": [
       "[1, 2, 3, 4, 5]"
      ]
     },
     "execution_count": 24,
     "metadata": {},
     "output_type": "execute_result"
    }
   ],
   "source": [
    "l = []\n",
    "for int in range(1,6):\n",
    "    l.append(int)\n",
    "l"
   ]
  },
  {
   "cell_type": "markdown",
   "id": "f2f311e9",
   "metadata": {},
   "source": [
    "### 5. Print the integer elements in the above list using  foreach loop   \n",
    "  \n"
   ]
  },
  {
   "cell_type": "code",
   "execution_count": 37,
   "id": "0e172ddf",
   "metadata": {},
   "outputs": [
    {
     "name": "stdout",
     "output_type": "stream",
     "text": [
      "1, 2, 3, 4, 5, "
     ]
    }
   ],
   "source": [
    "l = [1, 2, 3, 4, 5]\n",
    "\n",
    "for int in l:\n",
    "    print(int,end=', ')"
   ]
  },
  {
   "cell_type": "markdown",
   "id": "5f32920e",
   "metadata": {},
   "source": [
    "### 6. Create an string list and add any 5 integers to this list   \n"
   ]
  },
  {
   "cell_type": "code",
   "execution_count": 27,
   "id": "4c6bd0ff",
   "metadata": {},
   "outputs": [
    {
     "data": {
      "text/plain": [
       "['1', '2', '3', '4', '5']"
      ]
     },
     "execution_count": 27,
     "metadata": {},
     "output_type": "execute_result"
    }
   ],
   "source": [
    "l = []\n",
    "\n",
    "l.append('1')\n",
    "l.append('2')\n",
    "l.append('3')\n",
    "l.append('4')\n",
    "l.append('5')\n",
    "l"
   ]
  },
  {
   "cell_type": "markdown",
   "id": "10df1a16",
   "metadata": {},
   "source": [
    "### 7. Print the string elements in the above list using for  loop   "
   ]
  },
  {
   "cell_type": "code",
   "execution_count": 28,
   "id": "cd7a6fbf",
   "metadata": {},
   "outputs": [
    {
     "data": {
      "text/plain": [
       "['1', '2', '3', '4', '5']"
      ]
     },
     "execution_count": 28,
     "metadata": {},
     "output_type": "execute_result"
    }
   ],
   "source": [
    "l = []\n",
    "for i in range(1,6):\n",
    "    l.append(str(i))\n",
    "l"
   ]
  },
  {
   "cell_type": "markdown",
   "id": "98ccc7ab",
   "metadata": {},
   "source": [
    "### 8. Print the string elements in the above list using  foreach loop   \n"
   ]
  },
  {
   "cell_type": "code",
   "execution_count": 40,
   "id": "075f803d",
   "metadata": {},
   "outputs": [
    {
     "name": "stdout",
     "output_type": "stream",
     "text": [
      "1, 2, 3, 4, 5, "
     ]
    }
   ],
   "source": [
    "l = ['1', '2', '3', '4', '5']\n",
    "\n",
    "for i in l:\n",
    "    print(i, end =', ')"
   ]
  },
  {
   "cell_type": "markdown",
   "id": "d20595a6",
   "metadata": {},
   "source": [
    "### 9. Count the elements in the list and print"
   ]
  },
  {
   "cell_type": "code",
   "execution_count": 44,
   "id": "b63ef0cd",
   "metadata": {},
   "outputs": [
    {
     "name": "stdout",
     "output_type": "stream",
     "text": [
      "Count of elements in the list is: 5\n"
     ]
    }
   ],
   "source": [
    "l = ['1', '2', '3', '4', '5']\n",
    "print(f'Count of elements in the list is: {len(l)}')"
   ]
  },
  {
   "cell_type": "markdown",
   "id": "741cc4ae",
   "metadata": {},
   "source": [
    "### 10. Clear all the elements in the list using clear method   \n"
   ]
  },
  {
   "cell_type": "code",
   "execution_count": 46,
   "id": "c861c4c4",
   "metadata": {},
   "outputs": [
    {
     "data": {
      "text/plain": [
       "[]"
      ]
     },
     "execution_count": 46,
     "metadata": {},
     "output_type": "execute_result"
    }
   ],
   "source": [
    "l = ['1', '2', '3', '4', '5']\n",
    "l.clear()\n",
    "l"
   ]
  },
  {
   "cell_type": "markdown",
   "id": "01d05017",
   "metadata": {},
   "source": [
    "### 11. Check whether 'Kishore' is present in the string list using exists method   \n"
   ]
  },
  {
   "cell_type": "code",
   "execution_count": 47,
   "id": "7948a653",
   "metadata": {},
   "outputs": [
    {
     "name": "stdout",
     "output_type": "stream",
     "text": [
      "Kishore is not present in the list.\n"
     ]
    }
   ],
   "source": [
    "l = ['1', '2', '3', '4', '5']\n",
    "\n",
    "if 'Kishore' in l:\n",
    "    print('Kishore is present in the list.')\n",
    "else:\n",
    "    print('Kishore is not present in the list.')"
   ]
  },
  {
   "cell_type": "markdown",
   "id": "138afd95",
   "metadata": {},
   "source": [
    "### 12. Check whether 'Kishore' is present in the string list using Find  method   \n"
   ]
  },
  {
   "cell_type": "code",
   "execution_count": 48,
   "id": "3b899b37",
   "metadata": {},
   "outputs": [
    {
     "name": "stdout",
     "output_type": "stream",
     "text": [
      "Kishore is not present in the list.\n"
     ]
    }
   ],
   "source": [
    "l = ['1', '2', '3', '4', '5']\n",
    "## index() method\n",
    "try:\n",
    "    position = l.index('Kishore')\n",
    "    print(f\"Kishore is present in the list at index: {position}\")\n",
    "except ValueError:\n",
    "    print(\"Kishore is not present in the list.\")"
   ]
  },
  {
   "cell_type": "markdown",
   "id": "0d02af5e",
   "metadata": {},
   "source": [
    "### 13. Check whether 'Kishore' is present in the string list using contains method   \n"
   ]
  },
  {
   "cell_type": "code",
   "execution_count": 49,
   "id": "486bf88e",
   "metadata": {},
   "outputs": [
    {
     "name": "stdout",
     "output_type": "stream",
     "text": [
      "Kishore is not present in the list.\n"
     ]
    }
   ],
   "source": [
    "l = ['1', '2', '3', '4', '5']\n",
    "\n",
    "if 'Kishore' in l:\n",
    "    print('Kishore is present in the list.')\n",
    "else:\n",
    "    print('Kishore is not present in the list.')"
   ]
  },
  {
   "cell_type": "markdown",
   "id": "3ee15a7f",
   "metadata": {},
   "source": [
    "### 14. Insert  an element into the list using Insert method   \n",
    "    \n"
   ]
  },
  {
   "cell_type": "code",
   "execution_count": 50,
   "id": "ba3de67c",
   "metadata": {},
   "outputs": [
    {
     "data": {
      "text/plain": [
       "['1', '2', '6', '3', '4', '5']"
      ]
     },
     "execution_count": 50,
     "metadata": {},
     "output_type": "execute_result"
    }
   ],
   "source": [
    "l = ['1', '2', '3', '4', '5']\n",
    "\n",
    "l.insert(2,'6')\n",
    "l"
   ]
  },
  {
   "cell_type": "markdown",
   "id": "9d2180f7",
   "metadata": {},
   "source": [
    "### 15. Reverse the list using reverse method   \n"
   ]
  },
  {
   "cell_type": "code",
   "execution_count": 51,
   "id": "6899c915",
   "metadata": {},
   "outputs": [
    {
     "data": {
      "text/plain": [
       "['5', '4', '3', '2', '1']"
      ]
     },
     "execution_count": 51,
     "metadata": {},
     "output_type": "execute_result"
    }
   ],
   "source": [
    "l = ['1', '2', '3', '4', '5']\n",
    "l.reverse()\n",
    "l"
   ]
  },
  {
   "cell_type": "markdown",
   "id": "3b2fd325",
   "metadata": {},
   "source": [
    "### 16. Remove an element at index 3 using RemoveAt method "
   ]
  },
  {
   "cell_type": "code",
   "execution_count": 53,
   "id": "9948afe7",
   "metadata": {},
   "outputs": [
    {
     "data": {
      "text/plain": [
       "['1', '2', '3', '5']"
      ]
     },
     "execution_count": 53,
     "metadata": {},
     "output_type": "execute_result"
    }
   ],
   "source": [
    "l = ['1', '2', '3', '4', '5']\n",
    "l.pop(3)\n",
    "l"
   ]
  },
  {
   "cell_type": "markdown",
   "id": "8cdb49fd",
   "metadata": {},
   "source": [
    "### 17. Create a list with student class (List that accepts student objects)   \n"
   ]
  },
  {
   "cell_type": "code",
   "execution_count": 73,
   "id": "569e1636",
   "metadata": {},
   "outputs": [
    {
     "name": "stdout",
     "output_type": "stream",
     "text": [
      "student(Name: Bhavya, Age: 22, Gender: F)\n",
      "student(Name: Lowkya, Age: 23, Gender: F)\n",
      "student(Name: Mohan, Age: 24, Gender: M)\n"
     ]
    }
   ],
   "source": [
    "class student:\n",
    "    def __init__(self, name, age, gender):\n",
    "        self.name = name\n",
    "        self.age = age\n",
    "        self.gender = gender\n",
    "\n",
    "    def __str__(self):\n",
    "        return f\"student(Name: {self.name}, Age: {self.age}, Gender: {self.gender})\"\n",
    "\n",
    "students = [\n",
    "    student('Bhavya', 22, 'F'),\n",
    "    student('Lowkya', 23, 'F'),\n",
    "    student('Mohan', 24, 'M')\n",
    "]\n",
    "\n",
    "for i in students:\n",
    "    print(i)\n"
   ]
  },
  {
   "cell_type": "markdown",
   "id": "998b81bc",
   "metadata": {},
   "source": [
    "### 18.  Add 10  Student  objects to the  list  "
   ]
  },
  {
   "cell_type": "code",
   "execution_count": 75,
   "id": "21d22593",
   "metadata": {},
   "outputs": [
    {
     "name": "stdout",
     "output_type": "stream",
     "text": [
      "student(Name: Bhavya, Age: 22, Gender: F)\n",
      "student(Name: Lowkya, Age: 23, Gender: F)\n",
      "student(Name: Mohan, Age: 24, Gender: M)\n",
      "student(Name: Archana, Age: 23, Gender: F)\n",
      "student(Name: Sita, Age: 22, Gender: F)\n",
      "student(Name: Ram, Age: 23, Gender: M)\n",
      "student(Name: Meera, Age: 20, Gender: F)\n",
      "student(Name: Arjun, Age: 25, Gender: M)\n",
      "student(Name: Neha, Age: 24, Gender: F)\n",
      "student(Name: Karan, Age: 23, Gender: M)\n"
     ]
    }
   ],
   "source": [
    "class student:\n",
    "    def __init__(self, name, age, gender):\n",
    "        self.name = name\n",
    "        self.age = age\n",
    "        self.gender = gender\n",
    "\n",
    "    def __str__(self):\n",
    "        return f\"student(Name: {self.name}, Age: {self.age}, Gender: {self.gender})\"\n",
    "\n",
    "students = [\n",
    "    student('Bhavya', 22, 'F'),\n",
    "    student('Lowkya', 23, 'F'),\n",
    "    student('Mohan', 24, 'M'),\n",
    "    student('Archana', 23, 'F'),\n",
    "    student('Sita', 22, 'F'),\n",
    "    student('Ram', 23, 'M'),\n",
    "    student('Meera', 20, 'F'),\n",
    "    student('Arjun', 25, 'M'),\n",
    "    student('Neha', 24, 'F'),\n",
    "    student('Karan', 23, 'M')\n",
    "]\n",
    "\n",
    "for i in students:\n",
    "    print(i)"
   ]
  },
  {
   "cell_type": "markdown",
   "id": "d764bef4",
   "metadata": {},
   "source": [
    "### 19. Count the elements in the list and print "
   ]
  },
  {
   "cell_type": "code",
   "execution_count": 76,
   "id": "e9ec2b3f",
   "metadata": {},
   "outputs": [
    {
     "name": "stdout",
     "output_type": "stream",
     "text": [
      "The number of elements in the list is: 10\n"
     ]
    }
   ],
   "source": [
    "print(f'The number of elements in the list is: {len(students)}')"
   ]
  },
  {
   "cell_type": "markdown",
   "id": "0ee89292",
   "metadata": {},
   "source": [
    "### 20. Clear all the elements in the list using clear method"
   ]
  },
  {
   "cell_type": "code",
   "execution_count": 77,
   "id": "e5b2683e",
   "metadata": {},
   "outputs": [
    {
     "name": "stdout",
     "output_type": "stream",
     "text": [
      "The number of elements in the list after clearing is: 0\n"
     ]
    }
   ],
   "source": [
    "l.clear()\n",
    "print(f'The number of elements in the list after clearing is: {len(l)}')"
   ]
  },
  {
   "cell_type": "markdown",
   "id": "1e08c6cb",
   "metadata": {},
   "source": [
    "### 21. Check whether 'Kishore' student is present in the  list using exists method   "
   ]
  },
  {
   "cell_type": "code",
   "execution_count": 82,
   "id": "bd7a4f1f",
   "metadata": {},
   "outputs": [
    {
     "name": "stdout",
     "output_type": "stream",
     "text": [
      "Kishore is not present in the list.\n"
     ]
    }
   ],
   "source": [
    "class student:\n",
    "    def __init__(self, name, age, gender):\n",
    "        self.name = name\n",
    "        self.age = age\n",
    "        self.gender = gender\n",
    "\n",
    "    def __str__(self):\n",
    "        return f\"student(Name: {self.name}, Age: {self.age}, Gender: {self.gender})\"\n",
    "\n",
    "students = [\n",
    "    student('Bhavya', 22, 'F'),\n",
    "    student('Lowkya', 23, 'F'),\n",
    "    student('Mohan', 24, 'M'),\n",
    "    student('Archana', 23, 'F'),\n",
    "    student('Sita', 22, 'F'),\n",
    "    student('Ram', 23, 'M'),\n",
    "    student('Meera', 20, 'F'),\n",
    "    student('Arjun', 25, 'M'),\n",
    "    student('Neha', 24, 'F'),\n",
    "    student('Karan', 23, 'M')\n",
    "]\n",
    "found = False\n",
    "for i in students:\n",
    "    if i.name == 'Kishore':\n",
    "        found = True\n",
    "        break\n",
    "if found:\n",
    "    print('Kishore is present in the list.')\n",
    "else:\n",
    "    print('Kishore is not present in the list.')"
   ]
  },
  {
   "cell_type": "markdown",
   "id": "1b3b4202",
   "metadata": {},
   "source": [
    "### 22. Check whether 'Kishore'  student is present in the  list using Find  method   "
   ]
  },
  {
   "cell_type": "code",
   "execution_count": 83,
   "id": "e23e2d9c",
   "metadata": {},
   "outputs": [
    {
     "name": "stdout",
     "output_type": "stream",
     "text": [
      "Kishore is not present in the list.\n"
     ]
    }
   ],
   "source": [
    "class student:\n",
    "    def __init__(self, name, age, gender):\n",
    "        self.name = name\n",
    "        self.age = age\n",
    "        self.gender = gender\n",
    "\n",
    "students = [\n",
    "    student('Bhavya', 22, 'F'),\n",
    "    student('Lowkya', 23, 'F'),\n",
    "    student('Mohan', 24, 'M'),\n",
    "    student('Archana', 23, 'F'),\n",
    "    student('Sita', 22, 'F'),\n",
    "    student('Ram', 23, 'M'),\n",
    "    student('Meera', 20, 'F'),\n",
    "    student('Arjun', 25, 'M'),\n",
    "    student('Neha', 24, 'F'),\n",
    "    student('Karan', 23, 'M')\n",
    "]\n",
    "\n",
    "# Check if 'Kishore' is in the list\n",
    "if any(self.name == 'Kishore' for self in students):\n",
    "    print('Kishore is present in the list.')\n",
    "else:\n",
    "    print('Kishore is not present in the list.')\n"
   ]
  },
  {
   "cell_type": "markdown",
   "id": "96badfad",
   "metadata": {},
   "source": [
    "### 23. Check whether 'Kishore'  student  is present in the  list using contains method   \n"
   ]
  },
  {
   "cell_type": "code",
   "execution_count": 84,
   "id": "c619f5db",
   "metadata": {},
   "outputs": [
    {
     "name": "stdout",
     "output_type": "stream",
     "text": [
      "Kishore is not present in the list.\n"
     ]
    }
   ],
   "source": [
    "is_present = any(self.name == 'Kishore' for self in students)\n",
    "\n",
    "if is_present:\n",
    "    print('Kishore is present in the list.')\n",
    "else:\n",
    "    print('Kishore is not present in the list.')"
   ]
  },
  {
   "cell_type": "markdown",
   "id": "250b3767",
   "metadata": {},
   "source": [
    "### 24. Insert  an student object  into the list using Insert method "
   ]
  },
  {
   "cell_type": "code",
   "execution_count": 88,
   "id": "ba2b9b82",
   "metadata": {},
   "outputs": [
    {
     "name": "stdout",
     "output_type": "stream",
     "text": [
      "student(Name: Bhavya, Age: 22, Gender: F)\n",
      "student(Name: Lowkya, Age: 23, Gender: F)\n",
      "student(Name: Mohan, Age: 24, Gender: M)\n",
      "student(Name: Archana, Age: 23, Gender: F)\n",
      "student(Name: Sita, Age: 22, Gender: F)\n",
      "student(Name: Ram, Age: 23, Gender: M)\n",
      "student(Name: Vishali, Age: 25, Gender: F)\n",
      "student(Name: Meera, Age: 20, Gender: F)\n",
      "student(Name: Arjun, Age: 25, Gender: M)\n",
      "student(Name: Neha, Age: 24, Gender: F)\n",
      "student(Name: Karan, Age: 23, Gender: M)\n"
     ]
    }
   ],
   "source": [
    "class student:\n",
    "    def __init__(self, name, age, gender):\n",
    "        self.name = name\n",
    "        self.age = age\n",
    "        self.gender = gender\n",
    "    def __str__(self):\n",
    "        return f\"student(Name: {self.name}, Age: {self.age}, Gender: {self.gender})\"\n",
    "\n",
    "\n",
    "students = [\n",
    "    student('Bhavya', 22, 'F'),\n",
    "    student('Lowkya', 23, 'F'),\n",
    "    student('Mohan', 24, 'M'),\n",
    "    student('Archana', 23, 'F'),\n",
    "    student('Sita', 22, 'F'),\n",
    "    student('Ram', 23, 'M'),\n",
    "    student('Meera', 20, 'F'),\n",
    "    student('Arjun', 25, 'M'),\n",
    "    student('Neha', 24, 'F'),\n",
    "    student('Karan', 23, 'M')\n",
    "]\n",
    "new_student = student('Vishali', 25, 'F')\n",
    "\n",
    "students.insert(6, new_student)\n",
    "\n",
    "for i in students:\n",
    "    print(i)"
   ]
  },
  {
   "cell_type": "code",
   "execution_count": null,
   "id": "5757de00",
   "metadata": {},
   "outputs": [],
   "source": []
  }
 ],
 "metadata": {
  "kernelspec": {
   "display_name": "Python 3 (ipykernel)",
   "language": "python",
   "name": "python3"
  },
  "language_info": {
   "codemirror_mode": {
    "name": "ipython",
    "version": 3
   },
   "file_extension": ".py",
   "mimetype": "text/x-python",
   "name": "python",
   "nbconvert_exporter": "python",
   "pygments_lexer": "ipython3",
   "version": "3.10.9"
  }
 },
 "nbformat": 4,
 "nbformat_minor": 5
}
