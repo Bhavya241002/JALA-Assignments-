{
 "cells": [
  {
   "cell_type": "markdown",
   "id": "2b38203e",
   "metadata": {},
   "source": [
    "### 1. Create a datatable object  \n"
   ]
  },
  {
   "cell_type": "code",
   "execution_count": 1,
   "id": "3cdca12a",
   "metadata": {},
   "outputs": [
    {
     "name": "stdout",
     "output_type": "stream",
     "text": [
      "     Name  Age Gender\n",
      "0  Bhavya   22      F\n",
      "1  Lowkya   23      F\n"
     ]
    }
   ],
   "source": [
    "import pandas as pd\n",
    "\n",
    "data = {\n",
    "    'Name' : ['Bhavya', 'Lowkya'],\n",
    "    'Age' : [22, 23],\n",
    "    'Gender' : ['F','F']\n",
    "}\n",
    "\n",
    "df = pd.DataFrame(data)\n",
    "print(df)"
   ]
  },
  {
   "cell_type": "markdown",
   "id": "fee9df35",
   "metadata": {},
   "source": [
    "### 2. Create  a datatable object with a name by using constructor\n"
   ]
  },
  {
   "cell_type": "code",
   "execution_count": 2,
   "id": "1201c1a6",
   "metadata": {},
   "outputs": [
    {
     "name": "stdout",
     "output_type": "stream",
     "text": [
      "DataTable Name: MyDataTable\n",
      "['Name', 'Age', 'City']\n",
      "['Alice', 25, 'New York']\n",
      "['Bob', 30, 'Los Angeles']\n",
      "['Charlie', 35, 'Chicago']\n"
     ]
    }
   ],
   "source": [
    "class DataTable:\n",
    "    def __init__(self, name, data):\n",
    "        self.name = name\n",
    "        self.data = data\n",
    "\n",
    "    def display(self):\n",
    "        print(f\"DataTable Name: {self.name}\")\n",
    "        for row in self.data:\n",
    "            print(row)\n",
    "\n",
    "data = [\n",
    "    ['Name', 'Age', 'City'],\n",
    "    ['Alice', 25, 'New York'],\n",
    "    ['Bob', 30, 'Los Angeles'],\n",
    "    ['Charlie', 35, 'Chicago']\n",
    "]\n",
    "datatable = DataTable('MyDataTable', data)\n",
    "\n",
    "datatable.display()\n"
   ]
  },
  {
   "cell_type": "markdown",
   "id": "e47924d9",
   "metadata": {},
   "source": [
    "### 3. Write any 10 properties of DataTable \n"
   ]
  },
  {
   "cell_type": "code",
   "execution_count": 3,
   "id": "9bd64675",
   "metadata": {},
   "outputs": [],
   "source": [
    "import pandas as pd\n",
    "\n",
    "data_table = pd.DataFrame({\n",
    "    'Column1': [1, 2, 3],\n",
    "    'Column2': ['A', 'B', 'C']\n",
    "})\n",
    "\n",
    "# Properties \n",
    "columns = data_table.columns  # collection of columns that belong to the DataFrame.\n",
    "rows = data_table.iterrows()  # Iterates over rows in the DataFrame.\n",
    "table_name = \"ExampleTable\"  # No direct equivalent, assigning a custom name to the DataFrame.\n",
    "primary_key = data_table.set_index('Column1')  # Setting a column as primary key\n",
    "constraints = []  # No direct equivalent for constraints in pandas.\n",
    "namespace = \"ExampleNamespace\"  # Custom namespace, no direct equivalent in pandas.\n",
    "extended_properties = {}  # Custom properties dictionary, similar to user-defined metadata.\n",
    "default_view = data_table  # In pandas, the DataFrame itself acts as the view.\n",
    "parent_relations = []  # Relationships are not directly represented in pandas DataFrame.\n",
    "child_relations = []  # Relationships are not directly represented in pandas DataFrame.\n"
   ]
  },
  {
   "cell_type": "markdown",
   "id": "f8e10fb0",
   "metadata": {},
   "source": [
    "### 4. Write any 10 method of DataTable\n"
   ]
  },
  {
   "cell_type": "code",
   "execution_count": null,
   "id": "e02a83c3",
   "metadata": {},
   "outputs": [],
   "source": [
    "import pandas as pd\n",
    "\n",
    "data_table = pd.DataFrame({\n",
    "    'Column1': [1, 2, 3],\n",
    "    'Column2': ['A', 'B', 'C']\n",
    "})\n",
    "\n",
    "# Methods of DataTable equivalent\n",
    "data_table_copy = data_table.copy()  # Copies both the structure and data for the DataFrame.\n",
    "new_row = pd.DataFrame([{'Column1': 4, 'Column2': 'D'}])  # Creating a new row for the DataFrame.\n",
    "selected_rows = data_table[data_table['Column1'] > 1]  # Selects rows that match a filter condition.\n",
    "merged_data_table = pd.concat([data_table, new_row])  # Merges the specified DataFrame with the current DataFrame.\n",
    "data_table_reverted = data_table_copy  # Revert changes by assigning the copied DataFrame.\n",
    "data_table = pd.read_csv('example.csv')  # Loads values from a data source using a CSV file.\n",
    "data_table.clear()  # Clears all data from the DataFrame."
   ]
  },
  {
   "cell_type": "markdown",
   "id": "2a2cc0d3",
   "metadata": {},
   "source": [
    "### 5.  Add 4 columns(EmpId, EmpName, Emp Salary,  Department) to this data table object using columns.add() method."
   ]
  },
  {
   "cell_type": "code",
   "execution_count": 5,
   "id": "0c43412d",
   "metadata": {},
   "outputs": [
    {
     "name": "stdout",
     "output_type": "stream",
     "text": [
      "Column Name: EmpId\n",
      "Column Name: EmpName\n",
      "Column Name: EmpSalary\n",
      "Column Name: Department\n"
     ]
    }
   ],
   "source": [
    "import pandas as pd\n",
    "\n",
    "columns = ['EmpId', 'EmpName', 'EmpSalary', 'Department']\n",
    "data = []\n",
    "\n",
    "df = pd.DataFrame(data, columns=columns)\n",
    "\n",
    "for column in df.columns:\n",
    "    print(f\"Column Name: {column}\")"
   ]
  },
  {
   "cell_type": "markdown",
   "id": "0ca467fc",
   "metadata": {},
   "source": [
    "### 6. Add 5 records to this datatable object using Rows.Add() method.  \n"
   ]
  },
  {
   "cell_type": "code",
   "execution_count": 10,
   "id": "49f5cd71",
   "metadata": {},
   "outputs": [
    {
     "name": "stderr",
     "output_type": "stream",
     "text": [
      "C:\\Users\\bbhav\\AppData\\Local\\Temp\\ipykernel_27544\\381092085.py:8: FutureWarning: The frame.append method is deprecated and will be removed from pandas in a future version. Use pandas.concat instead.\n",
      "  df = df.append({'EmpId': 1, 'EmpName': 'Bhavya', 'EmpSalary': 60000, 'Department': 'IT'}, ignore_index=True)\n",
      "C:\\Users\\bbhav\\AppData\\Local\\Temp\\ipykernel_27544\\381092085.py:9: FutureWarning: The frame.append method is deprecated and will be removed from pandas in a future version. Use pandas.concat instead.\n",
      "  df = df.append({'EmpId': 2, 'EmpName': 'lowkya', 'EmpSalary': 70000, 'Department': 'HR'}, ignore_index=True)\n",
      "C:\\Users\\bbhav\\AppData\\Local\\Temp\\ipykernel_27544\\381092085.py:10: FutureWarning: The frame.append method is deprecated and will be removed from pandas in a future version. Use pandas.concat instead.\n",
      "  df = df.append({'EmpId': 3, 'EmpName': 'Mohan', 'EmpSalary': 50000, 'Department': 'Sales'}, ignore_index=True)\n",
      "C:\\Users\\bbhav\\AppData\\Local\\Temp\\ipykernel_27544\\381092085.py:11: FutureWarning: The frame.append method is deprecated and will be removed from pandas in a future version. Use pandas.concat instead.\n",
      "  df = df.append({'EmpId': 4, 'EmpName': 'Gopal', 'EmpSalary': 60000, 'Department': 'Finance'}, ignore_index=True)\n",
      "C:\\Users\\bbhav\\AppData\\Local\\Temp\\ipykernel_27544\\381092085.py:12: FutureWarning: The frame.append method is deprecated and will be removed from pandas in a future version. Use pandas.concat instead.\n",
      "  df = df.append({'EmpId': 5, 'EmpName': 'Praveen', 'EmpSalary': 70000, 'Department': 'HR'}, ignore_index=True)\n"
     ]
    },
    {
     "data": {
      "text/html": [
       "<div>\n",
       "<style scoped>\n",
       "    .dataframe tbody tr th:only-of-type {\n",
       "        vertical-align: middle;\n",
       "    }\n",
       "\n",
       "    .dataframe tbody tr th {\n",
       "        vertical-align: top;\n",
       "    }\n",
       "\n",
       "    .dataframe thead th {\n",
       "        text-align: right;\n",
       "    }\n",
       "</style>\n",
       "<table border=\"1\" class=\"dataframe\">\n",
       "  <thead>\n",
       "    <tr style=\"text-align: right;\">\n",
       "      <th></th>\n",
       "      <th>EmpId</th>\n",
       "      <th>EmpName</th>\n",
       "      <th>EmpSalary</th>\n",
       "      <th>Department</th>\n",
       "    </tr>\n",
       "  </thead>\n",
       "  <tbody>\n",
       "    <tr>\n",
       "      <th>0</th>\n",
       "      <td>1</td>\n",
       "      <td>Bhavya</td>\n",
       "      <td>60000</td>\n",
       "      <td>IT</td>\n",
       "    </tr>\n",
       "    <tr>\n",
       "      <th>1</th>\n",
       "      <td>2</td>\n",
       "      <td>lowkya</td>\n",
       "      <td>70000</td>\n",
       "      <td>HR</td>\n",
       "    </tr>\n",
       "    <tr>\n",
       "      <th>2</th>\n",
       "      <td>3</td>\n",
       "      <td>Mohan</td>\n",
       "      <td>50000</td>\n",
       "      <td>Sales</td>\n",
       "    </tr>\n",
       "    <tr>\n",
       "      <th>3</th>\n",
       "      <td>4</td>\n",
       "      <td>Gopal</td>\n",
       "      <td>60000</td>\n",
       "      <td>Finance</td>\n",
       "    </tr>\n",
       "    <tr>\n",
       "      <th>4</th>\n",
       "      <td>5</td>\n",
       "      <td>Praveen</td>\n",
       "      <td>70000</td>\n",
       "      <td>HR</td>\n",
       "    </tr>\n",
       "  </tbody>\n",
       "</table>\n",
       "</div>"
      ],
      "text/plain": [
       "  EmpId  EmpName EmpSalary Department\n",
       "0     1   Bhavya     60000         IT\n",
       "1     2   lowkya     70000         HR\n",
       "2     3    Mohan     50000      Sales\n",
       "3     4    Gopal     60000    Finance\n",
       "4     5  Praveen     70000         HR"
      ]
     },
     "execution_count": 10,
     "metadata": {},
     "output_type": "execute_result"
    }
   ],
   "source": [
    "import pandas as pd\n",
    "\n",
    "col = ['EmpId', 'EmpName', 'EmpSalary', 'Department']\n",
    "data = []\n",
    "\n",
    "df = pd.DataFrame(data, columns = col)\n",
    "\n",
    "df = df.append({'EmpId': 1, 'EmpName': 'Bhavya', 'EmpSalary': 60000, 'Department': 'IT'}, ignore_index=True)\n",
    "df = df.append({'EmpId': 2, 'EmpName': 'lowkya', 'EmpSalary': 70000, 'Department': 'HR'}, ignore_index=True)\n",
    "df = df.append({'EmpId': 3, 'EmpName': 'Mohan', 'EmpSalary': 50000, 'Department': 'Sales'}, ignore_index=True)\n",
    "df = df.append({'EmpId': 4, 'EmpName': 'Gopal', 'EmpSalary': 60000, 'Department': 'Finance'}, ignore_index=True)\n",
    "df = df.append({'EmpId': 5, 'EmpName': 'Praveen', 'EmpSalary': 70000, 'Department': 'HR'}, ignore_index=True)\n",
    "\n",
    "df"
   ]
  },
  {
   "cell_type": "markdown",
   "id": "82b89aab",
   "metadata": {},
   "source": [
    "### 7. Print the EmpId column of this datatable using for loop  \n"
   ]
  },
  {
   "cell_type": "code",
   "execution_count": 13,
   "id": "d485bf1d",
   "metadata": {},
   "outputs": [
    {
     "name": "stdout",
     "output_type": "stream",
     "text": [
      "1\n",
      "2\n",
      "3\n",
      "4\n",
      "5\n"
     ]
    },
    {
     "name": "stderr",
     "output_type": "stream",
     "text": [
      "C:\\Users\\bbhav\\AppData\\Local\\Temp\\ipykernel_27544\\1999630001.py:8: FutureWarning: The frame.append method is deprecated and will be removed from pandas in a future version. Use pandas.concat instead.\n",
      "  df = df.append({'EmpId': 1, 'EmpName': 'Bhavya', 'EmpSalary': 60000, 'Department': 'IT'}, ignore_index=True)\n",
      "C:\\Users\\bbhav\\AppData\\Local\\Temp\\ipykernel_27544\\1999630001.py:9: FutureWarning: The frame.append method is deprecated and will be removed from pandas in a future version. Use pandas.concat instead.\n",
      "  df = df.append({'EmpId': 2, 'EmpName': 'lowkya', 'EmpSalary': 70000, 'Department': 'HR'}, ignore_index=True)\n",
      "C:\\Users\\bbhav\\AppData\\Local\\Temp\\ipykernel_27544\\1999630001.py:10: FutureWarning: The frame.append method is deprecated and will be removed from pandas in a future version. Use pandas.concat instead.\n",
      "  df = df.append({'EmpId': 3, 'EmpName': 'Mohan', 'EmpSalary': 50000, 'Department': 'Sales'}, ignore_index=True)\n",
      "C:\\Users\\bbhav\\AppData\\Local\\Temp\\ipykernel_27544\\1999630001.py:11: FutureWarning: The frame.append method is deprecated and will be removed from pandas in a future version. Use pandas.concat instead.\n",
      "  df = df.append({'EmpId': 4, 'EmpName': 'Gopal', 'EmpSalary': 60000, 'Department': 'Finance'}, ignore_index=True)\n",
      "C:\\Users\\bbhav\\AppData\\Local\\Temp\\ipykernel_27544\\1999630001.py:12: FutureWarning: The frame.append method is deprecated and will be removed from pandas in a future version. Use pandas.concat instead.\n",
      "  df = df.append({'EmpId': 5, 'EmpName': 'Praveen', 'EmpSalary': 70000, 'Department': 'HR'}, ignore_index=True)\n"
     ]
    }
   ],
   "source": [
    "import pandas as pd\n",
    "\n",
    "col = ['EmpId', 'EmpName', 'EmpSalary', 'Department']\n",
    "data = []\n",
    "\n",
    "df = pd.DataFrame(data, columns = col)\n",
    "\n",
    "df = df.append({'EmpId': 1, 'EmpName': 'Bhavya', 'EmpSalary': 60000, 'Department': 'IT'}, ignore_index=True)\n",
    "df = df.append({'EmpId': 2, 'EmpName': 'lowkya', 'EmpSalary': 70000, 'Department': 'HR'}, ignore_index=True)\n",
    "df = df.append({'EmpId': 3, 'EmpName': 'Mohan', 'EmpSalary': 50000, 'Department': 'Sales'}, ignore_index=True)\n",
    "df = df.append({'EmpId': 4, 'EmpName': 'Gopal', 'EmpSalary': 60000, 'Department': 'Finance'}, ignore_index=True)\n",
    "df = df.append({'EmpId': 5, 'EmpName': 'Praveen', 'EmpSalary': 70000, 'Department': 'HR'}, ignore_index=True)\n",
    "\n",
    "for i in df['EmpId']:\n",
    "    print(i)"
   ]
  },
  {
   "cell_type": "markdown",
   "id": "66b79a82",
   "metadata": {},
   "source": [
    "### 8. Print the EmpId column of this datatable using foreach loop  \n"
   ]
  },
  {
   "cell_type": "code",
   "execution_count": 14,
   "id": "d8d87339",
   "metadata": {},
   "outputs": [
    {
     "name": "stdout",
     "output_type": "stream",
     "text": [
      "1\n",
      "2\n",
      "3\n",
      "4\n",
      "5\n"
     ]
    }
   ],
   "source": [
    "import pandas as pd\n",
    "\n",
    "df = pd.DataFrame([\n",
    "    {'EmpId': 1, 'EmpName': 'Bhavya', 'EmpSalary': 60000, 'Department': 'IT'},\n",
    "    {'EmpId': 2, 'EmpName': 'Lowkya', 'EmpSalary': 70000, 'Department': 'HR'},\n",
    "    {'EmpId': 3, 'EmpName': 'Mohan', 'EmpSalary': 50000, 'Department': 'Sales'},\n",
    "    {'EmpId': 4, 'EmpName': 'Gopal', 'EmpSalary': 60000, 'Department': 'Finance'},\n",
    "    {'EmpId': 5, 'EmpName': 'Praveen', 'EmpSalary': 70000, 'Department': 'HR'}\n",
    "])\n",
    "for emp_id in df['EmpId']:\n",
    "    print(emp_id)"
   ]
  },
  {
   "cell_type": "markdown",
   "id": "b45becb2",
   "metadata": {},
   "source": [
    "### 9. Print the EmpId column of this datatable using DataRow property  \n"
   ]
  },
  {
   "cell_type": "code",
   "execution_count": 16,
   "id": "0ff7d28a",
   "metadata": {},
   "outputs": [
    {
     "name": "stdout",
     "output_type": "stream",
     "text": [
      "1\n",
      "2\n",
      "3\n",
      "4\n",
      "5\n"
     ]
    }
   ],
   "source": [
    "import pandas as pd\n",
    "\n",
    "df = pd.DataFrame([\n",
    "    {'EmpId': 1, 'EmpName': 'Bhavya', 'EmpSalary': 60000, 'Department': 'IT'},\n",
    "    {'EmpId': 2, 'EmpName': 'Lowkya', 'EmpSalary': 70000, 'Department': 'HR'},\n",
    "    {'EmpId': 3, 'EmpName': 'Mohan', 'EmpSalary': 50000, 'Department': 'Sales'},\n",
    "    {'EmpId': 4, 'EmpName': 'Gopal', 'EmpSalary': 60000, 'Department': 'Finance'},\n",
    "    {'EmpId': 5, 'EmpName': 'Praveen', 'EmpSalary': 70000, 'Department': 'HR'}\n",
    "])\n",
    "\n",
    "for index, row in df.iterrows():\n",
    "    print(row['EmpId'])"
   ]
  },
  {
   "cell_type": "markdown",
   "id": "c60f6e4c",
   "metadata": {},
   "source": [
    "### 10. Create another datatable with  5 columns(Your choice) and  4 records.\n"
   ]
  },
  {
   "cell_type": "code",
   "execution_count": 26,
   "id": "d06c7212",
   "metadata": {},
   "outputs": [
    {
     "data": {
      "text/html": [
       "<div>\n",
       "<style scoped>\n",
       "    .dataframe tbody tr th:only-of-type {\n",
       "        vertical-align: middle;\n",
       "    }\n",
       "\n",
       "    .dataframe tbody tr th {\n",
       "        vertical-align: top;\n",
       "    }\n",
       "\n",
       "    .dataframe thead th {\n",
       "        text-align: right;\n",
       "    }\n",
       "</style>\n",
       "<table border=\"1\" class=\"dataframe\">\n",
       "  <thead>\n",
       "    <tr style=\"text-align: right;\">\n",
       "      <th></th>\n",
       "      <th>Name</th>\n",
       "      <th>Age</th>\n",
       "      <th>Grade</th>\n",
       "      <th>Gender</th>\n",
       "      <th>Place</th>\n",
       "    </tr>\n",
       "  </thead>\n",
       "  <tbody>\n",
       "    <tr>\n",
       "      <th>0</th>\n",
       "      <td>Bhavya</td>\n",
       "      <td>22</td>\n",
       "      <td>A</td>\n",
       "      <td>F</td>\n",
       "      <td>Hyderabad</td>\n",
       "    </tr>\n",
       "    <tr>\n",
       "      <th>1</th>\n",
       "      <td>Lowkya</td>\n",
       "      <td>23</td>\n",
       "      <td>A</td>\n",
       "      <td>F</td>\n",
       "      <td>Nizamabad</td>\n",
       "    </tr>\n",
       "    <tr>\n",
       "      <th>2</th>\n",
       "      <td>Mohan</td>\n",
       "      <td>24</td>\n",
       "      <td>C</td>\n",
       "      <td>M</td>\n",
       "      <td>Hyderabad</td>\n",
       "    </tr>\n",
       "    <tr>\n",
       "      <th>3</th>\n",
       "      <td>Gopal</td>\n",
       "      <td>27</td>\n",
       "      <td>B</td>\n",
       "      <td>M</td>\n",
       "      <td>Warangal</td>\n",
       "    </tr>\n",
       "  </tbody>\n",
       "</table>\n",
       "</div>"
      ],
      "text/plain": [
       "     Name  Age Grade Gender       Place\n",
       "0  Bhavya   22     A      F   Hyderabad\n",
       "1  Lowkya   23     A      F   Nizamabad\n",
       "2   Mohan   24     C      M  Hyderabad \n",
       "3   Gopal   27     B      M    Warangal"
      ]
     },
     "execution_count": 26,
     "metadata": {},
     "output_type": "execute_result"
    }
   ],
   "source": [
    "import pandas as pd\n",
    "\n",
    "df = pd.DataFrame([\n",
    "    {'Name': 'Bhavya','Age': 22, 'Grade': 'A', 'Gender': 'F', 'Place': 'Hyderabad'},\n",
    "    {'Name': 'Lowkya','Age': 23, 'Grade': 'A', 'Gender': 'F', 'Place': 'Nizamabad'},\n",
    "    {'Name': 'Mohan','Age': 24, 'Grade': 'C', 'Gender': 'M', 'Place': 'Hyderabad '},\n",
    "    {'Name': 'Gopal','Age': 27, 'Grade': 'B', 'Gender': 'M', 'Place': 'Warangal'}\n",
    "\n",
    "])\n",
    "df"
   ]
  },
  {
   "cell_type": "markdown",
   "id": "2026ed1f",
   "metadata": {},
   "source": [
    "### 11. Create a DataSet object   \n"
   ]
  },
  {
   "cell_type": "code",
   "execution_count": 18,
   "id": "85bb2d1b",
   "metadata": {},
   "outputs": [
    {
     "data": {
      "text/html": [
       "<div>\n",
       "<style scoped>\n",
       "    .dataframe tbody tr th:only-of-type {\n",
       "        vertical-align: middle;\n",
       "    }\n",
       "\n",
       "    .dataframe tbody tr th {\n",
       "        vertical-align: top;\n",
       "    }\n",
       "\n",
       "    .dataframe thead th {\n",
       "        text-align: right;\n",
       "    }\n",
       "</style>\n",
       "<table border=\"1\" class=\"dataframe\">\n",
       "  <thead>\n",
       "    <tr style=\"text-align: right;\">\n",
       "      <th></th>\n",
       "      <th>Name</th>\n",
       "      <th>Age</th>\n",
       "      <th>Grade</th>\n",
       "      <th>Gender</th>\n",
       "    </tr>\n",
       "  </thead>\n",
       "  <tbody>\n",
       "    <tr>\n",
       "      <th>0</th>\n",
       "      <td>Bhavya</td>\n",
       "      <td>22</td>\n",
       "      <td>A</td>\n",
       "      <td>F</td>\n",
       "    </tr>\n",
       "    <tr>\n",
       "      <th>1</th>\n",
       "      <td>Lowkya</td>\n",
       "      <td>23</td>\n",
       "      <td>A</td>\n",
       "      <td>F</td>\n",
       "    </tr>\n",
       "    <tr>\n",
       "      <th>2</th>\n",
       "      <td>Mohan</td>\n",
       "      <td>24</td>\n",
       "      <td>C</td>\n",
       "      <td>M</td>\n",
       "    </tr>\n",
       "    <tr>\n",
       "      <th>3</th>\n",
       "      <td>Gopal</td>\n",
       "      <td>27</td>\n",
       "      <td>B</td>\n",
       "      <td>M</td>\n",
       "    </tr>\n",
       "  </tbody>\n",
       "</table>\n",
       "</div>"
      ],
      "text/plain": [
       "     Name  Age Grade Gender\n",
       "0  Bhavya   22     A      F\n",
       "1  Lowkya   23     A      F\n",
       "2   Mohan   24     C      M\n",
       "3   Gopal   27     B      M"
      ]
     },
     "execution_count": 18,
     "metadata": {},
     "output_type": "execute_result"
    }
   ],
   "source": [
    "import pandas as pd\n",
    "\n",
    "dataset = pd.DataFrame([\n",
    "    {'Name': 'Bhavya','Age': 22, 'Grade': 'A', 'Gender': 'F'},\n",
    "    {'Name': 'Lowkya','Age': 23, 'Grade': 'A', 'Gender': 'F'},\n",
    "    {'Name': 'Mohan','Age': 24, 'Grade': 'C', 'Gender': 'M'},\n",
    "    {'Name': 'Gopal','Age': 27, 'Grade': 'B', 'Gender': 'M'}\n",
    "])\n",
    "dataset"
   ]
  },
  {
   "cell_type": "markdown",
   "id": "23f41b16",
   "metadata": {},
   "source": [
    "### 12. Create a DataSet object with name 'MyDataSet' using its constructor  \n"
   ]
  },
  {
   "cell_type": "code",
   "execution_count": 21,
   "id": "f2e02db8",
   "metadata": {},
   "outputs": [
    {
     "data": {
      "text/html": [
       "<div>\n",
       "<style scoped>\n",
       "    .dataframe tbody tr th:only-of-type {\n",
       "        vertical-align: middle;\n",
       "    }\n",
       "\n",
       "    .dataframe tbody tr th {\n",
       "        vertical-align: top;\n",
       "    }\n",
       "\n",
       "    .dataframe thead th {\n",
       "        text-align: right;\n",
       "    }\n",
       "</style>\n",
       "<table border=\"1\" class=\"dataframe\">\n",
       "  <thead>\n",
       "    <tr style=\"text-align: right;\">\n",
       "      <th></th>\n",
       "      <th>EmpId</th>\n",
       "      <th>EmpName</th>\n",
       "      <th>EmpSalary</th>\n",
       "      <th>Department</th>\n",
       "    </tr>\n",
       "  </thead>\n",
       "  <tbody>\n",
       "    <tr>\n",
       "      <th>0</th>\n",
       "      <td>1</td>\n",
       "      <td>Bhavya</td>\n",
       "      <td>60000</td>\n",
       "      <td>IT</td>\n",
       "    </tr>\n",
       "    <tr>\n",
       "      <th>1</th>\n",
       "      <td>2</td>\n",
       "      <td>Lowkya</td>\n",
       "      <td>70000</td>\n",
       "      <td>HR</td>\n",
       "    </tr>\n",
       "    <tr>\n",
       "      <th>2</th>\n",
       "      <td>3</td>\n",
       "      <td>Mohan</td>\n",
       "      <td>50000</td>\n",
       "      <td>Sales</td>\n",
       "    </tr>\n",
       "    <tr>\n",
       "      <th>3</th>\n",
       "      <td>4</td>\n",
       "      <td>Gopal</td>\n",
       "      <td>60000</td>\n",
       "      <td>Finance</td>\n",
       "    </tr>\n",
       "  </tbody>\n",
       "</table>\n",
       "</div>"
      ],
      "text/plain": [
       "   EmpId EmpName  EmpSalary Department\n",
       "0      1  Bhavya      60000         IT\n",
       "1      2  Lowkya      70000         HR\n",
       "2      3   Mohan      50000      Sales\n",
       "3      4   Gopal      60000    Finance"
      ]
     },
     "execution_count": 21,
     "metadata": {},
     "output_type": "execute_result"
    }
   ],
   "source": [
    "import pandas as pd\n",
    "\n",
    "MyDataSet = pd.DataFrame({\n",
    "    'EmpId': [1,2,3,4],\n",
    "    'EmpName': ['Bhavya', 'Lowkya', 'Mohan', 'Gopal'],\n",
    "    'EmpSalary': [60000, 70000, 50000, 60000],\n",
    "    'Department': ['IT', 'HR', 'Sales', 'Finance']\n",
    "})\n",
    "\n",
    "MyDataSet"
   ]
  },
  {
   "cell_type": "markdown",
   "id": "91888cf3",
   "metadata": {},
   "source": [
    "### 13. Add above two datatables to MyDataSet DataSet using Tables.Add() method \n"
   ]
  },
  {
   "cell_type": "code",
   "execution_count": 29,
   "id": "0c503b6d",
   "metadata": {},
   "outputs": [
    {
     "data": {
      "text/html": [
       "<div>\n",
       "<style scoped>\n",
       "    .dataframe tbody tr th:only-of-type {\n",
       "        vertical-align: middle;\n",
       "    }\n",
       "\n",
       "    .dataframe tbody tr th {\n",
       "        vertical-align: top;\n",
       "    }\n",
       "\n",
       "    .dataframe thead th {\n",
       "        text-align: right;\n",
       "    }\n",
       "</style>\n",
       "<table border=\"1\" class=\"dataframe\">\n",
       "  <thead>\n",
       "    <tr style=\"text-align: right;\">\n",
       "      <th></th>\n",
       "      <th>EmpId</th>\n",
       "      <th>EmpName</th>\n",
       "      <th>EmpSalary</th>\n",
       "      <th>Department</th>\n",
       "      <th>Name</th>\n",
       "      <th>Age</th>\n",
       "      <th>Grade</th>\n",
       "      <th>Gender</th>\n",
       "    </tr>\n",
       "  </thead>\n",
       "  <tbody>\n",
       "    <tr>\n",
       "      <th>0</th>\n",
       "      <td>1.0</td>\n",
       "      <td>Bhavya</td>\n",
       "      <td>60000.0</td>\n",
       "      <td>IT</td>\n",
       "      <td>NaN</td>\n",
       "      <td>NaN</td>\n",
       "      <td>NaN</td>\n",
       "      <td>NaN</td>\n",
       "    </tr>\n",
       "    <tr>\n",
       "      <th>1</th>\n",
       "      <td>2.0</td>\n",
       "      <td>Lowkya</td>\n",
       "      <td>70000.0</td>\n",
       "      <td>HR</td>\n",
       "      <td>NaN</td>\n",
       "      <td>NaN</td>\n",
       "      <td>NaN</td>\n",
       "      <td>NaN</td>\n",
       "    </tr>\n",
       "    <tr>\n",
       "      <th>2</th>\n",
       "      <td>3.0</td>\n",
       "      <td>Mohan</td>\n",
       "      <td>50000.0</td>\n",
       "      <td>Sales</td>\n",
       "      <td>NaN</td>\n",
       "      <td>NaN</td>\n",
       "      <td>NaN</td>\n",
       "      <td>NaN</td>\n",
       "    </tr>\n",
       "    <tr>\n",
       "      <th>3</th>\n",
       "      <td>4.0</td>\n",
       "      <td>Gopal</td>\n",
       "      <td>60000.0</td>\n",
       "      <td>Finance</td>\n",
       "      <td>NaN</td>\n",
       "      <td>NaN</td>\n",
       "      <td>NaN</td>\n",
       "      <td>NaN</td>\n",
       "    </tr>\n",
       "    <tr>\n",
       "      <th>4</th>\n",
       "      <td>NaN</td>\n",
       "      <td>NaN</td>\n",
       "      <td>NaN</td>\n",
       "      <td>NaN</td>\n",
       "      <td>Bhavya</td>\n",
       "      <td>22.0</td>\n",
       "      <td>A</td>\n",
       "      <td>F</td>\n",
       "    </tr>\n",
       "    <tr>\n",
       "      <th>5</th>\n",
       "      <td>NaN</td>\n",
       "      <td>NaN</td>\n",
       "      <td>NaN</td>\n",
       "      <td>NaN</td>\n",
       "      <td>Lowkya</td>\n",
       "      <td>23.0</td>\n",
       "      <td>A</td>\n",
       "      <td>F</td>\n",
       "    </tr>\n",
       "    <tr>\n",
       "      <th>6</th>\n",
       "      <td>NaN</td>\n",
       "      <td>NaN</td>\n",
       "      <td>NaN</td>\n",
       "      <td>NaN</td>\n",
       "      <td>Mohan</td>\n",
       "      <td>24.0</td>\n",
       "      <td>C</td>\n",
       "      <td>M</td>\n",
       "    </tr>\n",
       "    <tr>\n",
       "      <th>7</th>\n",
       "      <td>NaN</td>\n",
       "      <td>NaN</td>\n",
       "      <td>NaN</td>\n",
       "      <td>NaN</td>\n",
       "      <td>Gopal</td>\n",
       "      <td>27.0</td>\n",
       "      <td>B</td>\n",
       "      <td>M</td>\n",
       "    </tr>\n",
       "  </tbody>\n",
       "</table>\n",
       "</div>"
      ],
      "text/plain": [
       "   EmpId EmpName  EmpSalary Department    Name   Age Grade Gender\n",
       "0    1.0  Bhavya    60000.0         IT     NaN   NaN   NaN    NaN\n",
       "1    2.0  Lowkya    70000.0         HR     NaN   NaN   NaN    NaN\n",
       "2    3.0   Mohan    50000.0      Sales     NaN   NaN   NaN    NaN\n",
       "3    4.0   Gopal    60000.0    Finance     NaN   NaN   NaN    NaN\n",
       "4    NaN     NaN        NaN        NaN  Bhavya  22.0     A      F\n",
       "5    NaN     NaN        NaN        NaN  Lowkya  23.0     A      F\n",
       "6    NaN     NaN        NaN        NaN   Mohan  24.0     C      M\n",
       "7    NaN     NaN        NaN        NaN   Gopal  27.0     B      M"
      ]
     },
     "execution_count": 29,
     "metadata": {},
     "output_type": "execute_result"
    }
   ],
   "source": [
    "import pandas as pd\n",
    "\n",
    "MyDataSet = pd.DataFrame({\n",
    "    'EmpId': [1,2,3,4],\n",
    "    'EmpName': ['Bhavya', 'Lowkya', 'Mohan', 'Gopal'],\n",
    "    'EmpSalary': [60000, 70000, 50000, 60000],\n",
    "    'Department': ['IT', 'HR', 'Sales', 'Finance']\n",
    "})\n",
    "\n",
    "dataset = pd.DataFrame([\n",
    "    {'Name': 'Bhavya','Age': 22, 'Grade': 'A', 'Gender': 'F'},\n",
    "    {'Name': 'Lowkya','Age': 23, 'Grade': 'A', 'Gender': 'F'},\n",
    "    {'Name': 'Mohan','Age': 24, 'Grade': 'C', 'Gender': 'M'},\n",
    "    {'Name': 'Gopal','Age': 27, 'Grade': 'B', 'Gender': 'M'}\n",
    "])\n",
    "\n",
    "combined_df = pd.concat([MyDataSet,dataset],ignore_index=True,sort = False)\n",
    "combined_df"
   ]
  },
  {
   "cell_type": "markdown",
   "id": "267b6b0a",
   "metadata": {},
   "source": [
    "### 14. Write any 3 Properties of ArrayList\n"
   ]
  },
  {
   "cell_type": "code",
   "execution_count": 34,
   "id": "39df3d13",
   "metadata": {},
   "outputs": [
    {
     "name": "stdout",
     "output_type": "stream",
     "text": [
      "Size after adding elements: 2\n"
     ]
    }
   ],
   "source": [
    "# 1. Dynamic Size: List size grows automatically\n",
    "list = []\n",
    "list.append(10)\n",
    "list.append(20)\n",
    "print(\"Size after adding elements:\", len(list))  "
   ]
  },
  {
   "cell_type": "code",
   "execution_count": 35,
   "id": "9b37d69d",
   "metadata": {},
   "outputs": [
    {
     "name": "stdout",
     "output_type": "stream",
     "text": [
      "List after adding duplicate: [10, 20, 10]\n"
     ]
    }
   ],
   "source": [
    "# 2. Allows Duplicate Elements\n",
    "list.append(10)  \n",
    "print(\"List after adding duplicate:\", list)  "
   ]
  },
  {
   "cell_type": "code",
   "execution_count": 36,
   "id": "06037832",
   "metadata": {},
   "outputs": [
    {
     "name": "stdout",
     "output_type": "stream",
     "text": [
      "Fruits in insertion order: ['Apple', 'Banana', 'Cherry']\n"
     ]
    }
   ],
   "source": [
    "# 3. Maintains Insertion Order\n",
    "fruits = []\n",
    "fruits.append(\"Apple\")\n",
    "fruits.append(\"Banana\")\n",
    "fruits.append(\"Cherry\")\n",
    "print(\"Fruits in insertion order:\", fruits)"
   ]
  },
  {
   "cell_type": "markdown",
   "id": "eadef318",
   "metadata": {},
   "source": [
    "### 15. Write any 3 methods of ArrayList\n"
   ]
  },
  {
   "cell_type": "code",
   "execution_count": 31,
   "id": "8489b0ef",
   "metadata": {},
   "outputs": [
    {
     "name": "stdout",
     "output_type": "stream",
     "text": [
      "Output: ['Bhavya', 42]\n"
     ]
    }
   ],
   "source": [
    "### 1. append()\n",
    "array_list = []\n",
    "array_list.append('Bhavya')\n",
    "array_list.append(42)\n",
    "print('Output:', array_list)"
   ]
  },
  {
   "cell_type": "code",
   "execution_count": 32,
   "id": "eb97b45d",
   "metadata": {},
   "outputs": [
    {
     "name": "stdout",
     "output_type": "stream",
     "text": [
      "Before removing: ['Paradise', 'Bavarchi', 'Mandi', 'Mehfil']\n",
      "After removing Bavarchi: ['Paradise', 'Mandi', 'Mehfil']\n"
     ]
    }
   ],
   "source": [
    "### 2. Remove()\n",
    "array_list = ['Paradise','Bavarchi','Mandi','Mehfil']\n",
    "print('Before removing:', array_list)\n",
    "array_list.remove('Bavarchi')\n",
    "print('After removing Bavarchi:', array_list)"
   ]
  },
  {
   "cell_type": "code",
   "execution_count": 33,
   "id": "1d86cb15",
   "metadata": {},
   "outputs": [
    {
     "name": "stdout",
     "output_type": "stream",
     "text": [
      "Before sorting: [5, 3, 7, 1, 9]\n",
      "After sorting: [1, 3, 5, 7, 9]\n"
     ]
    }
   ],
   "source": [
    "### 3. sort()\n",
    "array_list = [5,3,7,1,9]\n",
    "print(\"Before sorting:\", array_list)  \n",
    "array_list.sort()\n",
    "print(\"After sorting:\", array_list) "
   ]
  },
  {
   "cell_type": "markdown",
   "id": "a4225a6b",
   "metadata": {},
   "source": [
    "### 16. Difference between Array and Arraylist   \n"
   ]
  },
  {
   "cell_type": "code",
   "execution_count": 51,
   "id": "9b0de459",
   "metadata": {},
   "outputs": [],
   "source": [
    "from array import array"
   ]
  },
  {
   "cell_type": "code",
   "execution_count": 52,
   "id": "81d8ee1b",
   "metadata": {},
   "outputs": [
    {
     "name": "stdout",
     "output_type": "stream",
     "text": [
      "array('i', [1, 2, 3, 4, 5, 6])\n",
      "[1, 2, 3, 4, 5, 6]\n"
     ]
    }
   ],
   "source": [
    "## 1. Size\n",
    "# Arrays have a fixed size\n",
    "fixed_array = array('i', [1, 2, 3, 4, 5]) \n",
    "fixed_array.append(6)\n",
    "print(fixed_array)\n",
    "\n",
    "# ArrayLists in Python can be implemented using lists which are dynamic\n",
    "dynamic_list = [1, 2, 3, 4, 5] \n",
    "dynamic_list.append(6) \n",
    "print(dynamic_list)"
   ]
  },
  {
   "cell_type": "code",
   "execution_count": 53,
   "id": "5224e9fe",
   "metadata": {},
   "outputs": [],
   "source": [
    "# 2. Type\n",
    "# Arrays can only hold elements of the same type (e.g., all integers)\n",
    "int_array = array('i', [1, 2, 3])\n",
    "\n",
    "# Lists can hold elements of different types\n",
    "mixed_list = [1, \"two\", 3.0]  "
   ]
  },
  {
   "cell_type": "code",
   "execution_count": 54,
   "id": "c4a906f6",
   "metadata": {},
   "outputs": [
    {
     "name": "stdout",
     "output_type": "stream",
     "text": [
      "Size of fixed_array: 116\n",
      "Size of dynamic_list: 104\n"
     ]
    }
   ],
   "source": [
    "# 3. Memory Management\n",
    "# Arrays are more memory-efficient for a fixed number of elements\n",
    "# Lists may use more memory due to dynamic resizing\n",
    "import sys\n",
    "print(\"Size of fixed_array:\", sys.getsizeof(fixed_array))\n",
    "print(\"Size of dynamic_list:\", sys.getsizeof(dynamic_list))"
   ]
  },
  {
   "cell_type": "code",
   "execution_count": 55,
   "id": "87477f2c",
   "metadata": {},
   "outputs": [
    {
     "name": "stdout",
     "output_type": "stream",
     "text": [
      "Fixed array: array('i', [1, 2, 3, 4, 5])\n",
      "Dynamic list: [1, 2, 3, 4, 5]\n"
     ]
    }
   ],
   "source": [
    "# 4. Syntax\n",
    "# Array declaration\n",
    "fixed_array = array('i', [1, 2, 3, 4, 5])  # Declaration of an integer array\n",
    "\n",
    "# List declaration\n",
    "dynamic_list = [1, 2, 3, 4, 5]  # Declaration of a list\n",
    "\n",
    "# Conclusion\n",
    "print(\"Fixed array:\", fixed_array)\n",
    "print(\"Dynamic list:\", dynamic_list)"
   ]
  },
  {
   "cell_type": "markdown",
   "id": "b1414786",
   "metadata": {},
   "source": [
    "### 17. Create a Arraylist and add 3 string elements  'One' , 'Two' , 'Three' by using add method   "
   ]
  },
  {
   "cell_type": "code",
   "execution_count": 57,
   "id": "525af9ce",
   "metadata": {},
   "outputs": [
    {
     "data": {
      "text/plain": [
       "['One', 'Two', 'Three']"
      ]
     },
     "execution_count": 57,
     "metadata": {},
     "output_type": "execute_result"
    }
   ],
   "source": [
    "l = []\n",
    "l.append('One')\n",
    "l.append('Two')\n",
    "l.append('Three')\n",
    "l"
   ]
  },
  {
   "cell_type": "markdown",
   "id": "f833aea6",
   "metadata": {},
   "source": [
    "### 18. Print the above arraylist element using for and foreach loop\n"
   ]
  },
  {
   "cell_type": "code",
   "execution_count": 65,
   "id": "4b7a6425",
   "metadata": {},
   "outputs": [],
   "source": [
    "l = []\n",
    "l.append('One')\n",
    "l.append('Two')\n",
    "l.append('Three')"
   ]
  },
  {
   "cell_type": "code",
   "execution_count": 66,
   "id": "4c087a63",
   "metadata": {},
   "outputs": [
    {
     "name": "stdout",
     "output_type": "stream",
     "text": [
      "One\n",
      "Two\n",
      "Three\n"
     ]
    }
   ],
   "source": [
    "## for loop\n",
    "for i in range(len(l)):\n",
    "    print(l[i])"
   ]
  },
  {
   "cell_type": "code",
   "execution_count": 67,
   "id": "c2036cdf",
   "metadata": {},
   "outputs": [
    {
     "name": "stdout",
     "output_type": "stream",
     "text": [
      "One\n",
      "Two\n",
      "Three\n"
     ]
    }
   ],
   "source": [
    "## foreach loop\n",
    "for i in l:\n",
    "    print(i)"
   ]
  },
  {
   "cell_type": "markdown",
   "id": "1636bfda",
   "metadata": {},
   "source": [
    "### 19. Remove all the elements in the ArrayList using Clear method  "
   ]
  },
  {
   "cell_type": "code",
   "execution_count": 68,
   "id": "c6b78f87",
   "metadata": {},
   "outputs": [
    {
     "name": "stdout",
     "output_type": "stream",
     "text": [
      "[]\n"
     ]
    }
   ],
   "source": [
    "l = [\"One\", \"Two\", \"Three\"]\n",
    "\n",
    "l.clear()\n",
    "\n",
    "print(l)"
   ]
  },
  {
   "cell_type": "markdown",
   "id": "5ef308ab",
   "metadata": {},
   "source": [
    "### 20. Reverse all the elements in the ArrayList using  Reverse method \n"
   ]
  },
  {
   "cell_type": "code",
   "execution_count": 69,
   "id": "ccfdcb12",
   "metadata": {},
   "outputs": [
    {
     "name": "stdout",
     "output_type": "stream",
     "text": [
      "['Three', 'Two', 'One']\n"
     ]
    }
   ],
   "source": [
    "l = [\"One\", \"Two\", \"Three\"]\n",
    "\n",
    "l.reverse()\n",
    "\n",
    "print(l)"
   ]
  },
  {
   "cell_type": "markdown",
   "id": "28d358f4",
   "metadata": {},
   "source": [
    "### 21. Sort all the elements in the ArrayList using  Sort method   "
   ]
  },
  {
   "cell_type": "code",
   "execution_count": 71,
   "id": "d2f4e14f",
   "metadata": {},
   "outputs": [
    {
     "name": "stdout",
     "output_type": "stream",
     "text": [
      "[4, 6, 7]\n"
     ]
    }
   ],
   "source": [
    "l = [6,4,7]\n",
    "\n",
    "l.sort()\n",
    "\n",
    "print(l)"
   ]
  },
  {
   "cell_type": "code",
   "execution_count": null,
   "id": "44fb78eb",
   "metadata": {},
   "outputs": [],
   "source": []
  },
  {
   "cell_type": "code",
   "execution_count": null,
   "id": "5c4b483b",
   "metadata": {},
   "outputs": [],
   "source": []
  }
 ],
 "metadata": {
  "kernelspec": {
   "display_name": "Python 3 (ipykernel)",
   "language": "python",
   "name": "python3"
  },
  "language_info": {
   "codemirror_mode": {
    "name": "ipython",
    "version": 3
   },
   "file_extension": ".py",
   "mimetype": "text/x-python",
   "name": "python",
   "nbconvert_exporter": "python",
   "pygments_lexer": "ipython3",
   "version": "3.10.9"
  }
 },
 "nbformat": 4,
 "nbformat_minor": 5
}
