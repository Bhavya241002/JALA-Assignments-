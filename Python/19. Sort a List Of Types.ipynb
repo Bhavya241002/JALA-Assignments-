{
 "cells": [
  {
   "cell_type": "markdown",
   "id": "fb5a131f",
   "metadata": {},
   "source": [
    "##  Create a list of employee objects with properties EmpId,EmpName,EmpSalary and DeptId add 10 employee objects to the above list  \n",
    "  \n",
    "> Note:   \n",
    "> Create objects with at least two objects having same property values  \n",
    "> ie Two objects should have  empname=\"kishore\" (or  any same value)  \n",
    "> ie Two objects should have  deptid =2 (or  any same value)  \n",
    "> ie Two objects should have  empsalary=1000 (or  any same value)  "
   ]
  },
  {
   "cell_type": "code",
   "execution_count": 2,
   "id": "07f35893",
   "metadata": {},
   "outputs": [
    {
     "name": "stdout",
     "output_type": "stream",
     "text": [
      "Employee(EmpId = 1, EmpName = 'Bhavya', EmpSalary = 1500, DeptId = 1)\n",
      "Employee(EmpId = 2, EmpName = 'Lowkya', EmpSalary = 2000, DeptId = 2)\n",
      "Employee(EmpId = 3, EmpName = 'Archana', EmpSalary = 3000, DeptId = 3)\n",
      "Employee(EmpId = 4, EmpName = 'Vishali', EmpSalary = 2500, DeptId = 2)\n",
      "Employee(EmpId = 5, EmpName = 'Mohan', EmpSalary = 1000, DeptId = 4)\n",
      "Employee(EmpId = 6, EmpName = 'Gopal', EmpSalary = 3500, DeptId = 5)\n",
      "Employee(EmpId = 7, EmpName = 'Kiran', EmpSalary = 1800, DeptId = 1)\n",
      "Employee(EmpId = 8, EmpName = 'Praveen', EmpSalary = 1000, DeptId = 3)\n",
      "Employee(EmpId = 9, EmpName = 'Ram', EmpSalary = 4000, DeptId = 6)\n",
      "Employee(EmpId = 10, EmpName = 'Kishore', EmpSalary = 2200, DeptId = 7)\n"
     ]
    }
   ],
   "source": [
    "class Employee:\n",
    "    def __init__(self,emp_id, emp_name, emp_salary, dept_id):\n",
    "        self.emp_id = emp_id\n",
    "        self.emp_name = emp_name\n",
    "        self.emp_salary = emp_salary\n",
    "        self.dept_id = dept_id\n",
    "    def __str__(self):\n",
    "        return f\"Employee(EmpId = {self.emp_id}, EmpName = '{self.emp_name}', EmpSalary = {self.emp_salary}, DeptId = {self.dept_id})\"\n",
    "\n",
    "employees = []\n",
    "\n",
    "employees.append(Employee(1, 'Bhavya', 1500, 1))\n",
    "employees.append(Employee(2, 'Lowkya', 2000, 2))\n",
    "employees.append(Employee(3, 'Archana', 3000, 3))\n",
    "employees.append(Employee(4, 'Vishali', 2500, 2))\n",
    "employees.append(Employee(5, 'Mohan', 1000, 4))\n",
    "employees.append(Employee(6, 'Gopal', 3500, 5))\n",
    "employees.append(Employee(7, 'Kiran', 1800, 1))\n",
    "employees.append(Employee(8, 'Praveen', 1000, 3))\n",
    "employees.append(Employee(9, 'Ram', 4000, 6))\n",
    "employees.append(Employee(10, 'Kishore', 2200, 7))\n",
    "\n",
    "for i in employees:\n",
    "    print(i)"
   ]
  },
  {
   "cell_type": "markdown",
   "id": "0cb79f1b",
   "metadata": {},
   "source": [
    "### Questions"
   ]
  },
  {
   "cell_type": "markdown",
   "id": "3e8fc48e",
   "metadata": {},
   "source": [
    "### 1. Check whether 'Kishore' employee is present in the  list using select method with lambda expression.   and print the empid, empname, empsal and deptid of the employee object print distinct objects not distinct names"
   ]
  },
  {
   "cell_type": "code",
   "execution_count": 6,
   "id": "51a8d459",
   "metadata": {},
   "outputs": [
    {
     "name": "stdout",
     "output_type": "stream",
     "text": [
      "EmpId: 10,\n",
      "EmpName: Kishore, \n",
      "EmpSAlary: 2200, \n",
      "DeptId: 7\n"
     ]
    }
   ],
   "source": [
    "kishore_emp = list(filter(lambda emp:emp.emp_name == 'Kishore',employees))\n",
    "\n",
    "for emp in kishore_emp:\n",
    "    print(f'EmpId: {emp.emp_id},\\nEmpName: {emp.emp_name}, \\nEmpSAlary: {emp.emp_salary}, \\nDeptId: {emp.dept_id}')"
   ]
  },
  {
   "cell_type": "markdown",
   "id": "2647f9dd",
   "metadata": {},
   "source": [
    "### 2. Check whether empid =4 employee is present in the  list using select method with lambda mmexpression. and print the empid, empname, empsal and deptid of the employee object print distinct objects not distinct names"
   ]
  },
  {
   "cell_type": "code",
   "execution_count": 8,
   "id": "418334ef",
   "metadata": {},
   "outputs": [
    {
     "name": "stdout",
     "output_type": "stream",
     "text": [
      "EmpId: 4, \n",
      "EmpName: Vishali, \n",
      "EmpSalary: 2500, \n",
      "DeptId: 2\n"
     ]
    }
   ],
   "source": [
    "# Use filter() with lambda to select employee with EmpId 4\n",
    "emp_id_4 = list(filter(lambda emp: emp.emp_id == 4, employees))\n",
    "\n",
    "# Print details of the employee with EmpId 4\n",
    "for emp in emp_id_4:\n",
    "    print(f\"EmpId: {emp.emp_id}, \\nEmpName: {emp.emp_name}, \\nEmpSalary: {emp.emp_salary}, \\nDeptId: {emp.dept_id}\")\n"
   ]
  },
  {
   "cell_type": "markdown",
   "id": "3a658a31",
   "metadata": {},
   "source": [
    "### 3. Check whether deptid=4 employee is present in the  list using select method with lambda expression. and print the empid, empname, empsal and deptid of the employee object print distinct objects not distinct names"
   ]
  },
  {
   "cell_type": "code",
   "execution_count": 9,
   "id": "8dd57811",
   "metadata": {},
   "outputs": [
    {
     "name": "stdout",
     "output_type": "stream",
     "text": [
      "EmpId: 5, \n",
      "EmpName: Mohan, \n",
      "EmpSalary: 1000, \n",
      "DeptId: 4\n"
     ]
    }
   ],
   "source": [
    "dept_id_4 = list(filter(lambda emp: emp.dept_id == 4, employees))\n",
    "\n",
    "for emp in dept_id_4:\n",
    "    print(f\"EmpId: {emp.emp_id}, \\nEmpName: {emp.emp_name}, \\nEmpSalary: {emp.emp_salary}, \\nDeptId: {emp.dept_id}\")\n"
   ]
  },
  {
   "cell_type": "markdown",
   "id": "c6e879da",
   "metadata": {},
   "source": [
    "### 4. Create another employee list and copy the above list to this newly created employee list "
   ]
  },
  {
   "cell_type": "code",
   "execution_count": 11,
   "id": "50d718ef",
   "metadata": {},
   "outputs": [
    {
     "name": "stdout",
     "output_type": "stream",
     "text": [
      "EmpId: 1, EmpName: Bhavya, EmpSalary: 1500, DeptId: 1\n",
      "EmpId: 2, EmpName: Lowkya, EmpSalary: 2000, DeptId: 2\n",
      "EmpId: 3, EmpName: Archana, EmpSalary: 3000, DeptId: 3\n",
      "EmpId: 4, EmpName: Vishali, EmpSalary: 2500, DeptId: 2\n",
      "EmpId: 5, EmpName: Mohan, EmpSalary: 1000, DeptId: 4\n",
      "EmpId: 6, EmpName: Gopal, EmpSalary: 3500, DeptId: 5\n",
      "EmpId: 7, EmpName: Kiran, EmpSalary: 1800, DeptId: 1\n",
      "EmpId: 8, EmpName: Praveen, EmpSalary: 1000, DeptId: 3\n",
      "EmpId: 9, EmpName: Ram, EmpSalary: 4000, DeptId: 6\n",
      "EmpId: 10, EmpName: Kishore, EmpSalary: 2200, DeptId: 7\n"
     ]
    }
   ],
   "source": [
    "new_emp_list = employees.copy()\n",
    "\n",
    "for emp in new_emp_list:\n",
    "    print(f\"EmpId: {emp.emp_id}, EmpName: {emp.emp_name}, EmpSalary: {emp.emp_salary}, DeptId: {emp.dept_id}\")"
   ]
  },
  {
   "cell_type": "markdown",
   "id": "4e59bb2c",
   "metadata": {},
   "source": [
    "### 5. Create another employee list and copy the above list with empname having Kishore and print this list  \n",
    "> Note: The new list should contain only employee objects with name Kishore "
   ]
  },
  {
   "cell_type": "code",
   "execution_count": 13,
   "id": "f71677fe",
   "metadata": {},
   "outputs": [
    {
     "name": "stdout",
     "output_type": "stream",
     "text": [
      "EmpId: 10, \n",
      "EmpName: Kishore, \n",
      "EmpSalary: 2200, \n",
      "DeptId: 7\n"
     ]
    }
   ],
   "source": [
    "kishore_list = list(filter(lambda emp: emp.emp_name == \"Kishore\", employees))\n",
    "\n",
    "for emp in kishore_list:\n",
    "    print(f\"EmpId: {emp.emp_id}, \\nEmpName: {emp.emp_name}, \\nEmpSalary: {emp.emp_salary}, \\nDeptId: {emp.dept_id}\")\n"
   ]
  },
  {
   "cell_type": "markdown",
   "id": "b1e1831b",
   "metadata": {},
   "source": [
    "### 6. Create another employee list and copy the above list with empsalary having greater than 2000 and print this list count and list   \n",
    ">Note: The new list should contain only employee objects with empsalary >2000 "
   ]
  },
  {
   "cell_type": "code",
   "execution_count": 15,
   "id": "d4624098",
   "metadata": {},
   "outputs": [
    {
     "name": "stdout",
     "output_type": "stream",
     "text": [
      "EmpId: 3, EmpName: Archana, EmpSalary: 3000, DeptId: 3\n",
      "EmpId: 4, EmpName: Vishali, EmpSalary: 2500, DeptId: 2\n",
      "EmpId: 6, EmpName: Gopal, EmpSalary: 3500, DeptId: 5\n",
      "EmpId: 9, EmpName: Ram, EmpSalary: 4000, DeptId: 6\n",
      "EmpId: 10, EmpName: Kishore, EmpSalary: 2200, DeptId: 7\n"
     ]
    }
   ],
   "source": [
    "salary_2k = list(filter(lambda emp: emp.emp_salary > 2000, employees))\n",
    "\n",
    "for emp in salary_2k:\n",
    "    print(f\"EmpId: {emp.emp_id}, EmpName: {emp.emp_name}, EmpSalary: {emp.emp_salary}, DeptId: {emp.dept_id}\")"
   ]
  },
  {
   "cell_type": "markdown",
   "id": "397a3fc3",
   "metadata": {},
   "source": [
    "### 7. Check whether deptid=4 employee is present in the  list using select method with lambda expression. and print the empid, empname, empsal and deptid of the employee object "
   ]
  },
  {
   "cell_type": "code",
   "execution_count": 18,
   "id": "724aef67",
   "metadata": {},
   "outputs": [
    {
     "name": "stdout",
     "output_type": "stream",
     "text": [
      "EmpId: 5, \n",
      "EmpName: Mohan, \n",
      "EmpSalary: 1000, \n",
      "DeptId: 4\n"
     ]
    }
   ],
   "source": [
    "dept_id_4 = list(filter(lambda emp: emp.dept_id == 4, employees))\n",
    "\n",
    "for emp in dept_id_4:\n",
    "    print(f\"EmpId: {emp.emp_id}, \\nEmpName: {emp.emp_name}, \\nEmpSalary: {emp.emp_salary}, \\nDeptId: {emp.dept_id}\")"
   ]
  },
  {
   "cell_type": "markdown",
   "id": "afc4fc30",
   "metadata": {},
   "source": [
    "### 8. Check whether deptid=4 employee is present in the  list using contains method with lambda expression. and print the empid, empname, empsal and deptid of the employee object "
   ]
  },
  {
   "cell_type": "code",
   "execution_count": 20,
   "id": "10f2607e",
   "metadata": {},
   "outputs": [
    {
     "name": "stdout",
     "output_type": "stream",
     "text": [
      "EmpId: 5, \n",
      "EmpName: Eve, \n",
      "EmpSalary: 1000, \n",
      "DeptId: 4\n"
     ]
    }
   ],
   "source": [
    "dept_id_4 = list(filter(lambda emp: emp.dept_id == 4, employee_list))\n",
    "\n",
    "if dept_id_4:\n",
    "    for emp in dept_id_4:\n",
    "        print(f\"EmpId: {emp.emp_id}, \\nEmpName: {emp.emp_name}, \\nEmpSalary: {emp.emp_salary}, \\nDeptId: {emp.dept_id}\")\n",
    "else:\n",
    "    print(\"No employee found with DeptId 4.\")\n"
   ]
  },
  {
   "cell_type": "markdown",
   "id": "11040aaa",
   "metadata": {},
   "source": [
    "### 9. Print the distinct employee name count in the  list using Distinct method with lambda expression. and print the empid, empname, empsal and deptid of the employee objects "
   ]
  },
  {
   "cell_type": "code",
   "execution_count": 21,
   "id": "d4e08229",
   "metadata": {},
   "outputs": [
    {
     "name": "stdout",
     "output_type": "stream",
     "text": [
      "Distinct employee name count: 10\n",
      "EmpId: 1, EmpName: Bhavya, EmpSalary: 1500, DeptId: 1\n",
      "EmpId: 2, EmpName: Lowkya, EmpSalary: 2000, DeptId: 2\n",
      "EmpId: 3, EmpName: Archana, EmpSalary: 3000, DeptId: 3\n",
      "EmpId: 4, EmpName: Vishali, EmpSalary: 2500, DeptId: 2\n",
      "EmpId: 5, EmpName: Mohan, EmpSalary: 1000, DeptId: 4\n",
      "EmpId: 6, EmpName: Gopal, EmpSalary: 3500, DeptId: 5\n",
      "EmpId: 7, EmpName: Kiran, EmpSalary: 1800, DeptId: 1\n",
      "EmpId: 8, EmpName: Praveen, EmpSalary: 1000, DeptId: 3\n",
      "EmpId: 9, EmpName: Ram, EmpSalary: 4000, DeptId: 6\n",
      "EmpId: 10, EmpName: Kishore, EmpSalary: 2200, DeptId: 7\n"
     ]
    }
   ],
   "source": [
    "distinct_names = set(map(lambda emp: emp.emp_name, employees))\n",
    "\n",
    "print(f\"Distinct employee name count: {len(distinct_names)}\")\n",
    "\n",
    "for emp in employees:\n",
    "    print(f\"EmpId: {emp.emp_id}, EmpName: {emp.emp_name}, EmpSalary: {emp.emp_salary}, DeptId: {emp.dept_id}\")"
   ]
  },
  {
   "cell_type": "markdown",
   "id": "7fc57c0e",
   "metadata": {},
   "source": [
    "### 10. Create an integer array with 5 elements and convert this integer array into integer list using ToList()"
   ]
  },
  {
   "cell_type": "code",
   "execution_count": 22,
   "id": "bc9dd09f",
   "metadata": {},
   "outputs": [
    {
     "name": "stdout",
     "output_type": "stream",
     "text": [
      "[1, 2, 3, 4, 5]\n"
     ]
    }
   ],
   "source": [
    "int_array = [1,2,3,4,5]\n",
    "arr_list = list(int_array) ## converting array to list\n",
    "print(arr_list)"
   ]
  },
  {
   "cell_type": "markdown",
   "id": "57b634a9",
   "metadata": {},
   "source": [
    "### 11. Get the first employee in the employee list using First() method"
   ]
  },
  {
   "cell_type": "code",
   "execution_count": 23,
   "id": "430689c5",
   "metadata": {},
   "outputs": [
    {
     "name": "stdout",
     "output_type": "stream",
     "text": [
      "EmpId: 1, \n",
      "EmpName: Bhavya, \n",
      "EmpSalary: 1500, \n",
      "DeptId: 1\n"
     ]
    }
   ],
   "source": [
    "first_emp = employees[0]\n",
    "print(f\"EmpId: {first_emp.emp_id}, \\nEmpName: {first_emp.emp_name}, \\nEmpSalary: {first_emp.emp_salary}, \\nDeptId: {first_emp.dept_id}\")"
   ]
  },
  {
   "cell_type": "markdown",
   "id": "b77dc0ad",
   "metadata": {},
   "source": [
    "### 12. Get the first employee in the employee list using FirstOrDefault() method  "
   ]
  },
  {
   "cell_type": "code",
   "execution_count": 24,
   "id": "2b268d09",
   "metadata": {},
   "outputs": [
    {
     "name": "stdout",
     "output_type": "stream",
     "text": [
      "EmpId: 1, \n",
      "EmpName: Bhavya, \n",
      "EmpSalary: 1500, \n",
      "DeptId: 1\n"
     ]
    }
   ],
   "source": [
    "first_emp = list(filter(lambda emp: emp.emp_name == \"Bhavya\", employees))\n",
    "\n",
    "for emp in first_emp:\n",
    "    print(f\"EmpId: {emp.emp_id}, \\nEmpName: {emp.emp_name}, \\nEmpSalary: {emp.emp_salary}, \\nDeptId: {emp.dept_id}\")"
   ]
  },
  {
   "cell_type": "markdown",
   "id": "c550d555",
   "metadata": {},
   "source": [
    "### 13. Get the first employee in the employee list using Single() method  \n"
   ]
  },
  {
   "cell_type": "code",
   "execution_count": 25,
   "id": "355a3be0",
   "metadata": {},
   "outputs": [
    {
     "name": "stdout",
     "output_type": "stream",
     "text": [
      "EmpId: 1, \n",
      "EmpName: Bhavya, \n",
      "EmpSalary: 1500, \n",
      "DeptId: 1\n"
     ]
    }
   ],
   "source": [
    "first_emp = list(filter(lambda emp: emp.emp_salary == 1500, employees))\n",
    "\n",
    "for emp in first_emp:\n",
    "    print(f\"EmpId: {emp.emp_id}, \\nEmpName: {emp.emp_name}, \\nEmpSalary: {emp.emp_salary}, \\nDeptId: {emp.dept_id}\")"
   ]
  },
  {
   "cell_type": "markdown",
   "id": "1ef667f0",
   "metadata": {},
   "source": [
    "### 14. Get the first employee in the employee list using SingleOrDefault() method  \n"
   ]
  },
  {
   "cell_type": "code",
   "execution_count": 26,
   "id": "ebf192e5",
   "metadata": {},
   "outputs": [
    {
     "name": "stdout",
     "output_type": "stream",
     "text": [
      "EmpId: 1, \n",
      "EmpName: Bhavya, \n",
      "EmpSalary: 1500, \n",
      "DeptId: 1\n"
     ]
    }
   ],
   "source": [
    "first_emp = employees[0]\n",
    "print(f\"EmpId: {first_emp.emp_id}, \\nEmpName: {first_emp.emp_name}, \\nEmpSalary: {first_emp.emp_salary}, \\nDeptId: {first_emp.dept_id}\")"
   ]
  },
  {
   "cell_type": "markdown",
   "id": "76a392ba",
   "metadata": {},
   "source": [
    "### 15. Sort the employee list by EmpID using OrderBy() method  \n"
   ]
  },
  {
   "cell_type": "code",
   "execution_count": 27,
   "id": "c8d80921",
   "metadata": {},
   "outputs": [
    {
     "name": "stdout",
     "output_type": "stream",
     "text": [
      "Employee(EmpId = 1, EmpName = 'Bhavya', EmpSalary = 1500, DeptId = 1)\n",
      "Employee(EmpId = 2, EmpName = 'Lowkya', EmpSalary = 2000, DeptId = 2)\n",
      "Employee(EmpId = 3, EmpName = 'Archana', EmpSalary = 3000, DeptId = 3)\n",
      "Employee(EmpId = 4, EmpName = 'Vishali', EmpSalary = 2500, DeptId = 2)\n",
      "Employee(EmpId = 5, EmpName = 'Mohan', EmpSalary = 1000, DeptId = 4)\n",
      "Employee(EmpId = 6, EmpName = 'Gopal', EmpSalary = 3500, DeptId = 5)\n",
      "Employee(EmpId = 7, EmpName = 'Kiran', EmpSalary = 1800, DeptId = 1)\n",
      "Employee(EmpId = 8, EmpName = 'Praveen', EmpSalary = 1000, DeptId = 3)\n",
      "Employee(EmpId = 9, EmpName = 'Ram', EmpSalary = 4000, DeptId = 6)\n",
      "Employee(EmpId = 10, EmpName = 'Kishore', EmpSalary = 2200, DeptId = 7)\n"
     ]
    }
   ],
   "source": [
    "sorted_employees = sorted(employees, key=lambda emp: emp.emp_id)\n",
    "# employees.sort(key=lambda emp: emp.emp_id)\n",
    "\n",
    "for employee in sorted_employees:\n",
    "    print(employee)"
   ]
  },
  {
   "cell_type": "markdown",
   "id": "3bd1be22",
   "metadata": {},
   "source": [
    "### 16. Sort the employee list by EmpName using OrderBy() method"
   ]
  },
  {
   "cell_type": "code",
   "execution_count": 33,
   "id": "5d7af86d",
   "metadata": {},
   "outputs": [
    {
     "name": "stdout",
     "output_type": "stream",
     "text": [
      "Employee(EmpId = 3, EmpName = 'Archana', EmpSalary = 3000, DeptId = 3)\n",
      "Employee(EmpId = 1, EmpName = 'Bhavya', EmpSalary = 1500, DeptId = 1)\n",
      "Employee(EmpId = 6, EmpName = 'Gopal', EmpSalary = 3500, DeptId = 5)\n",
      "Employee(EmpId = 7, EmpName = 'Kiran', EmpSalary = 1800, DeptId = 1)\n",
      "Employee(EmpId = 10, EmpName = 'Kishore', EmpSalary = 2200, DeptId = 7)\n",
      "Employee(EmpId = 2, EmpName = 'Lowkya', EmpSalary = 2000, DeptId = 2)\n",
      "Employee(EmpId = 5, EmpName = 'Mohan', EmpSalary = 1000, DeptId = 4)\n",
      "Employee(EmpId = 8, EmpName = 'Praveen', EmpSalary = 1000, DeptId = 3)\n",
      "Employee(EmpId = 9, EmpName = 'Ram', EmpSalary = 4000, DeptId = 6)\n",
      "Employee(EmpId = 4, EmpName = 'Vishali', EmpSalary = 2500, DeptId = 2)\n"
     ]
    }
   ],
   "source": [
    "sorted_employees = employees.sort(key = lambda emp: (emp.emp_name))\n",
    "\n",
    "for i in employees:\n",
    "    print(i)"
   ]
  },
  {
   "cell_type": "markdown",
   "id": "0caa1688",
   "metadata": {},
   "source": [
    "### 17. Sort the employee list by EmpName and then reverse by empid using Sort() method"
   ]
  },
  {
   "cell_type": "code",
   "execution_count": 30,
   "id": "a66e4f09",
   "metadata": {},
   "outputs": [
    {
     "name": "stdout",
     "output_type": "stream",
     "text": [
      "Employee(EmpId = 3, EmpName = 'Archana', EmpSalary = 3000, DeptId = 3)\n",
      "Employee(EmpId = 1, EmpName = 'Bhavya', EmpSalary = 1500, DeptId = 1)\n",
      "Employee(EmpId = 6, EmpName = 'Gopal', EmpSalary = 3500, DeptId = 5)\n",
      "Employee(EmpId = 7, EmpName = 'Kiran', EmpSalary = 1800, DeptId = 1)\n",
      "Employee(EmpId = 10, EmpName = 'Kishore', EmpSalary = 2200, DeptId = 7)\n",
      "Employee(EmpId = 2, EmpName = 'Lowkya', EmpSalary = 2000, DeptId = 2)\n",
      "Employee(EmpId = 5, EmpName = 'Mohan', EmpSalary = 1000, DeptId = 4)\n",
      "Employee(EmpId = 8, EmpName = 'Praveen', EmpSalary = 1000, DeptId = 3)\n",
      "Employee(EmpId = 9, EmpName = 'Ram', EmpSalary = 4000, DeptId = 6)\n",
      "Employee(EmpId = 4, EmpName = 'Vishali', EmpSalary = 2500, DeptId = 2)\n"
     ]
    }
   ],
   "source": [
    "employees.sort(key = lambda emp: (emp.emp_name, -emp.emp_id))\n",
    "\n",
    "for i in employees:\n",
    "    print(i)"
   ]
  },
  {
   "cell_type": "code",
   "execution_count": null,
   "id": "cc4a005d",
   "metadata": {},
   "outputs": [],
   "source": []
  }
 ],
 "metadata": {
  "kernelspec": {
   "display_name": "Python 3 (ipykernel)",
   "language": "python",
   "name": "python3"
  },
  "language_info": {
   "codemirror_mode": {
    "name": "ipython",
    "version": 3
   },
   "file_extension": ".py",
   "mimetype": "text/x-python",
   "name": "python",
   "nbconvert_exporter": "python",
   "pygments_lexer": "ipython3",
   "version": "3.10.9"
  }
 },
 "nbformat": 4,
 "nbformat_minor": 5
}
