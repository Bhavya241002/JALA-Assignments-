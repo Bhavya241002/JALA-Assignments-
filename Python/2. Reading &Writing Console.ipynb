{
 "cells": [
  {
   "cell_type": "markdown",
   "id": "cea57e82",
   "metadata": {},
   "source": [
    "### 1. Create any value called EmpName and print that value in the output"
   ]
  },
  {
   "cell_type": "code",
   "execution_count": 1,
   "id": "9b77cca5",
   "metadata": {},
   "outputs": [
    {
     "name": "stdout",
     "output_type": "stream",
     "text": [
      "Employee Name: Bhavya\n"
     ]
    }
   ],
   "source": [
    "EmpName = \"Bhavya\"\n",
    "\n",
    "print(\"Employee Name:\", EmpName)"
   ]
  },
  {
   "cell_type": "markdown",
   "id": "90cebe8c",
   "metadata": {},
   "source": [
    "### 2. Declare a variable name of any datatype and read the name in the output "
   ]
  },
  {
   "cell_type": "code",
   "execution_count": 3,
   "id": "236977d7",
   "metadata": {},
   "outputs": [
    {
     "name": "stdout",
     "output_type": "stream",
     "text": [
      "Please enter your favourite icecream: Butterscotch\n",
      "I love Butterscotch\n"
     ]
    }
   ],
   "source": [
    "icecream = input(\"Please enter your favourite icecream: \")\n",
    "\n",
    "print(\"I love\", icecream)"
   ]
  },
  {
   "cell_type": "markdown",
   "id": "f60d6242",
   "metadata": {},
   "source": [
    "### 3. Enter your name and from WriteLine function and print the output "
   ]
  },
  {
   "cell_type": "code",
   "execution_count": 7,
   "id": "0e3e7a11",
   "metadata": {},
   "outputs": [
    {
     "name": "stdout",
     "output_type": "stream",
     "text": [
      "Enter your name: Bhavya\n",
      "Hello, Bhavya! Welcome to the program.\n"
     ]
    }
   ],
   "source": [
    "def writeline(name):\n",
    "    print(f\"Hello, {name}! Welcome to the program.\")\n",
    "\n",
    "user_name = input(\"Enter your name: \")\n",
    "\n",
    "writeline(user_name)"
   ]
  },
  {
   "cell_type": "markdown",
   "id": "f1b2c983",
   "metadata": {},
   "source": [
    "### 4. Declare a 2 strings as input and contacenate with another string with the both Strings and get Output\n",
    "### Ex: Input : enter firstname , enter lastname , \"Hello\" + firstname + lastname\n",
    "### Output: Hello firstname lastname"
   ]
  },
  {
   "cell_type": "code",
   "execution_count": 9,
   "id": "d07d93ec",
   "metadata": {},
   "outputs": [
    {
     "name": "stdout",
     "output_type": "stream",
     "text": [
      "Enter first name: Bodempudi\n",
      "Enter last name: Bhavya\n",
      "My name is Bodempudi Bhavya\n"
     ]
    }
   ],
   "source": [
    "first_name = input(\"Enter first name: \")\n",
    "last_name = input(\"Enter last name: \")\n",
    "\n",
    "output = \"My name is \" + first_name + \" \" + last_name\n",
    "\n",
    "print(output)"
   ]
  },
  {
   "cell_type": "markdown",
   "id": "03fac656",
   "metadata": {},
   "source": [
    "### 5. Write a program by taking two integer values and return the value by adding in the Output\n",
    "### Ex: Input : 5,4\n",
    "### Output : 9\n"
   ]
  },
  {
   "cell_type": "code",
   "execution_count": 11,
   "id": "a865f4a7",
   "metadata": {},
   "outputs": [
    {
     "name": "stdout",
     "output_type": "stream",
     "text": [
      "Input : 5,4\n",
      "Output : 9\n"
     ]
    }
   ],
   "source": [
    "int1 = 5\n",
    "int2 = 4\n",
    "\n",
    "print(f'Input : {int1},{int2}')\n",
    "\n",
    "total = int1+int2\n",
    "\n",
    "print(f'Output : {total}')"
   ]
  },
  {
   "cell_type": "markdown",
   "id": "3447f54e",
   "metadata": {},
   "source": [
    "### 6. Write a program to enter password by converting it to char array into string print the Output \n",
    "### Ex: Input : enter password\n",
    "### Output : Password : 123"
   ]
  },
  {
   "cell_type": "code",
   "execution_count": 16,
   "id": "1c1ea497",
   "metadata": {},
   "outputs": [
    {
     "name": "stdout",
     "output_type": "stream",
     "text": [
      "Enter password: 123\n",
      "Password: 123\n"
     ]
    }
   ],
   "source": [
    "def enter_password():\n",
    "    password = input(\"Enter password: \")\n",
    "    \n",
    "    char_array = list(password)\n",
    "\n",
    "    password_string = ''.join(char_array)\n",
    "\n",
    "    print(\"Password:\", password_string)\n",
    "\n",
    "enter_password()"
   ]
  },
  {
   "cell_type": "code",
   "execution_count": null,
   "id": "0b4d495a",
   "metadata": {},
   "outputs": [],
   "source": []
  }
 ],
 "metadata": {
  "kernelspec": {
   "display_name": "Python 3 (ipykernel)",
   "language": "python",
   "name": "python3"
  },
  "language_info": {
   "codemirror_mode": {
    "name": "ipython",
    "version": 3
   },
   "file_extension": ".py",
   "mimetype": "text/x-python",
   "name": "python",
   "nbconvert_exporter": "python",
   "pygments_lexer": "ipython3",
   "version": "3.10.9"
  }
 },
 "nbformat": 4,
 "nbformat_minor": 5
}
