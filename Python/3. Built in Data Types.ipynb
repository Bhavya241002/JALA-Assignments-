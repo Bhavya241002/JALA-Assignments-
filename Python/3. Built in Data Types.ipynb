{
 "cells": [
  {
   "cell_type": "markdown",
   "id": "ac6fa83f",
   "metadata": {},
   "source": [
    "### 1. Declare a value as int datatype and print in the output"
   ]
  },
  {
   "cell_type": "code",
   "execution_count": 3,
   "id": "8af7a393",
   "metadata": {},
   "outputs": [
    {
     "name": "stdout",
     "output_type": "stream",
     "text": [
      "10\n",
      "<class 'int'>\n"
     ]
    }
   ],
   "source": [
    "value = 10\n",
    "print(value)\n",
    "print(type(value))"
   ]
  },
  {
   "cell_type": "markdown",
   "id": "9eca0091",
   "metadata": {},
   "source": [
    "### 2. Write a program in boolean type and print in console\n"
   ]
  },
  {
   "cell_type": "code",
   "execution_count": 7,
   "id": "01396886",
   "metadata": {},
   "outputs": [
    {
     "name": "stdout",
     "output_type": "stream",
     "text": [
      "True\n",
      "<class 'bool'>\n"
     ]
    }
   ],
   "source": [
    "x = True\n",
    "\n",
    "print(x)\n",
    "\n",
    "print(type(x))"
   ]
  },
  {
   "cell_type": "markdown",
   "id": "79868615",
   "metadata": {},
   "source": [
    "### 3. Write a program on converting Float to Decimal type and print in console\n"
   ]
  },
  {
   "cell_type": "code",
   "execution_count": 16,
   "id": "378e7bab",
   "metadata": {},
   "outputs": [
    {
     "name": "stdout",
     "output_type": "stream",
     "text": [
      "Float Value: 10.65\n",
      "Decimal Value: 10.6500000000000003552713678800500929355621337890625\n",
      "Type of Decimal Value: <class 'decimal.Decimal'>\n"
     ]
    }
   ],
   "source": [
    "from decimal import Decimal\n",
    "\n",
    "float_value = 10.65\n",
    "\n",
    "# Convert the float to Decimal\n",
    "decimal_value = Decimal(float_value)\n",
    "\n",
    "print(\"Float Value:\", float_value)\n",
    "print(\"Decimal Value:\", decimal_value)\n",
    "\n",
    "# Print the type of the converted value\n",
    "print(\"Type of Decimal Value:\", type(decimal_value))"
   ]
  },
  {
   "cell_type": "markdown",
   "id": "c0f985f2",
   "metadata": {},
   "source": [
    "### 4. Write a C# Sharp program that takes two numbers as input and perform an  operation (+,-,*,x,/) on them and displays the result of that operation.\n",
    "### Ex: Input : first number: 20, second number: 12\n",
    "### Output : 20-12 = 8"
   ]
  },
  {
   "cell_type": "code",
   "execution_count": 25,
   "id": "f35ef238",
   "metadata": {},
   "outputs": [
    {
     "name": "stdout",
     "output_type": "stream",
     "text": [
      "Sum of two numbers is: 32\n",
      "The difference of two numbers is: 8\n",
      "Multiplication of two numbers is: 240\n",
      "Division of two numbers is: 1.6666666666666667\n"
     ]
    }
   ],
   "source": [
    "# Define the numbers\n",
    "num1 = 20\n",
    "num2 = 12\n",
    "\n",
    "operation = ['+', \"-\", \"*\", \"/\"]\n",
    "\n",
    "for i in operation:\n",
    "    if i == '+':\n",
    "        print(f'Sum of two numbers is: {num1 + num2}')\n",
    "    elif i == '-':\n",
    "        print(f'The difference of two numbers is: {num1 - num2}')\n",
    "    elif i == '*':\n",
    "        print(f'Multiplication of two numbers is: {num1 * num2}')\n",
    "    elif i == '/':\n",
    "        if num2 != 0:\n",
    "            print(f'Division of two numbers is: {num1 / num2}')\n",
    "        else:\n",
    "            print(\"Error: Division by zero is not allowed.\")\n",
    "    else:\n",
    "        print(\"Invalid operation.\")"
   ]
  },
  {
   "cell_type": "markdown",
   "id": "e5fa4893",
   "metadata": {},
   "source": [
    "### 5. Write a C# Sharp program that takes three letters as input and display them in Reverse Order.\n",
    "### Ex: Input: Enter letter: b Enter letter: a Enter letter: t\n",
    "### Output : t a b"
   ]
  },
  {
   "cell_type": "code",
   "execution_count": 27,
   "id": "77307fdc",
   "metadata": {},
   "outputs": [
    {
     "name": "stdout",
     "output_type": "stream",
     "text": [
      "1st letter: b\n",
      "2nd letter: a\n",
      "3rd letter: t\n",
      "Output: t a b\n"
     ]
    }
   ],
   "source": [
    "letters = []\n",
    "one = input('1st letter: ')\n",
    "letters.append(one)\n",
    "\n",
    "sec = input('2nd letter: ')\n",
    "letters.append(sec)\n",
    "\n",
    "trd = input('3rd letter: ')\n",
    "letters.append(trd)\n",
    "\n",
    "\n",
    "print(\"Output:\", ' '.join(letters[::-1]))"
   ]
  },
  {
   "cell_type": "markdown",
   "id": "bd83411c",
   "metadata": {},
   "source": [
    "### 6. Write a C# Sharp program that takes a character as input and check the input (lowercase) is a vowel, a digit, or any other symbol.\n",
    "### Ex: Input : symbol : a\n",
    "### Output : It is a lowercase vowel"
   ]
  },
  {
   "cell_type": "code",
   "execution_count": 30,
   "id": "0fc4c847",
   "metadata": {},
   "outputs": [
    {
     "name": "stdout",
     "output_type": "stream",
     "text": [
      "Enter a character: /\n",
      "Output: It is a symbol or uppercase letter.\n"
     ]
    }
   ],
   "source": [
    "char = input(\"Enter a character: \")\n",
    "\n",
    "if len(char) != 1:\n",
    "    print(\"Please enter a single character.\")\n",
    "else:\n",
    "    if char.islower() and char in 'aeiou':\n",
    "        print(\"Output: It is a lowercase vowel.\")\n",
    "    elif char.isdigit():  \n",
    "        print(\"Output: It is a digit.\")\n",
    "    elif char.isalpha() and char.islower():\n",
    "        print(\"Output: It is a lowercase consonant.\")\n",
    "    else:  \n",
    "        print(\"Output: It is a symbol or uppercase letter.\")"
   ]
  },
  {
   "cell_type": "code",
   "execution_count": null,
   "id": "6f9602fd",
   "metadata": {},
   "outputs": [],
   "source": []
  }
 ],
 "metadata": {
  "kernelspec": {
   "display_name": "Python 3 (ipykernel)",
   "language": "python",
   "name": "python3"
  },
  "language_info": {
   "codemirror_mode": {
    "name": "ipython",
    "version": 3
   },
   "file_extension": ".py",
   "mimetype": "text/x-python",
   "name": "python",
   "nbconvert_exporter": "python",
   "pygments_lexer": "ipython3",
   "version": "3.10.9"
  }
 },
 "nbformat": 4,
 "nbformat_minor": 5
}
