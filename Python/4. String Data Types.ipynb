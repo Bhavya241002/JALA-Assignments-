{
 "cells": [
  {
   "cell_type": "markdown",
   "id": "3d891958",
   "metadata": {},
   "source": [
    "### 1. Write a Program to Reverse a String without using Reverse function  \n",
    "### Ex: Enter a String : INDIA  \n",
    "### Reverse String is : AIDNA  "
   ]
  },
  {
   "cell_type": "code",
   "execution_count": 2,
   "id": "39fc8b51",
   "metadata": {},
   "outputs": [
    {
     "name": "stdout",
     "output_type": "stream",
     "text": [
      "Enter a string: INDIA\n",
      "Output: AIDNI\n"
     ]
    }
   ],
   "source": [
    "input_string = input(\"Enter a string: \")\n",
    "x = len(input_string) - 1\n",
    "y = input_string[x::-1]\n",
    "print('Output:',y)"
   ]
  },
  {
   "cell_type": "markdown",
   "id": "9aa7c3b6",
   "metadata": {},
   "source": [
    "### 2. Write a program in C# Sharp to find the length of a string without using library function.\n",
    "### Ex: Input : Jalatechnologies\n",
    "### Output : 16\n"
   ]
  },
  {
   "cell_type": "code",
   "execution_count": 4,
   "id": "36d512f6",
   "metadata": {},
   "outputs": [
    {
     "name": "stdout",
     "output_type": "stream",
     "text": [
      "Enter a string: jalatechnologies\n",
      "Length of the string is: 16\n"
     ]
    }
   ],
   "source": [
    "input_str = input('Enter a string: ')\n",
    "length = 0\n",
    "\n",
    "for i in input_str:\n",
    "    length+=1\n",
    "\n",
    "print('Length of the string is:', length)"
   ]
  },
  {
   "cell_type": "markdown",
   "id": "bac9c1f1",
   "metadata": {},
   "source": [
    "### 3. Write a Program to calculate the length of the string using count function  \n",
    "### Ex: Given String: INDIA  \n",
    "### The Length of the First String is : 5 "
   ]
  },
  {
   "cell_type": "code",
   "execution_count": 5,
   "id": "a2e7a9ea",
   "metadata": {},
   "outputs": [
    {
     "name": "stdout",
     "output_type": "stream",
     "text": [
      "Enter a string: INDIA\n",
      "The Length of the string is: 5\n"
     ]
    }
   ],
   "source": [
    "input_str = input(\"Enter a string: \")\n",
    "\n",
    "length = input_str.count('') - 1\n",
    "\n",
    "print(\"The Length of the string is:\", length)"
   ]
  },
  {
   "cell_type": "markdown",
   "id": "a3f96389",
   "metadata": {},
   "source": [
    "### 4.  Write a Program to Replace String in String using Replace function \n",
    "### Ex: Sentence Before Replacing : Sun Rises in the West  \n",
    "### Sentence After Replacing : Sun Rises in the East"
   ]
  },
  {
   "cell_type": "code",
   "execution_count": 7,
   "id": "8f588dbb",
   "metadata": {},
   "outputs": [
    {
     "name": "stdout",
     "output_type": "stream",
     "text": [
      "Sentence Before Replacing: Sun Rises in the West\n",
      "Sentence After Replacing: Sun Rises in the East\n"
     ]
    }
   ],
   "source": [
    "input_str = 'Sun Rises in the West'\n",
    "\n",
    "print('Sentence Before Replacing:', input_str)\n",
    "print('Sentence After Replacing:',input_str.replace('West','East'))"
   ]
  },
  {
   "cell_type": "markdown",
   "id": "f52f29fc",
   "metadata": {},
   "source": [
    "### 5.  Write a Program to Convert Upper case to Lower Case using LowerCase method  \n",
    "### Ex: Enter the String in Uppercase : JALA  \n",
    "### String in Lowercase :jala "
   ]
  },
  {
   "cell_type": "code",
   "execution_count": 8,
   "id": "16439761",
   "metadata": {},
   "outputs": [
    {
     "name": "stdout",
     "output_type": "stream",
     "text": [
      "String in lowercase : jala\n"
     ]
    }
   ],
   "source": [
    "string = 'JALA'\n",
    "print('String in lowercase :',string.lower())"
   ]
  },
  {
   "cell_type": "markdown",
   "id": "27139cad",
   "metadata": {},
   "source": [
    "### 6. Write a program in C# Sharp to find maximum occurring character in a string.\n",
    "### Ex: Input string : Welcome to india\n",
    "### Output : The highest frequency of the character 'a' appear as 1 time"
   ]
  },
  {
   "cell_type": "code",
   "execution_count": 10,
   "id": "1e932436",
   "metadata": {},
   "outputs": [
    {
     "name": "stdout",
     "output_type": "stream",
     "text": [
      "Enter a string: Welcome to india\n",
      "The highest frequency of the character 'e' appears 2 time(s).\n"
     ]
    }
   ],
   "source": [
    "def max_occuring_char(input_string):\n",
    "    # Dictionary to store frequency of each character\n",
    "    frequency = {}\n",
    "\n",
    "    for char in input_string.lower(): \n",
    "        if char != ' ':\n",
    "            if char in frequency:\n",
    "                frequency[char] += 1\n",
    "            else:\n",
    "                frequency[char] = 1\n",
    "\n",
    "    # Find the character with the highest frequency\n",
    "    max_char = None\n",
    "    max_count = 0\n",
    "\n",
    "    for char, count in frequency.items():\n",
    "        if count > max_count:\n",
    "            max_count = count\n",
    "            max_char = char\n",
    "\n",
    "    return max_char, max_count\n",
    "\n",
    "# Input string\n",
    "input_string = input(\"Enter a string: \")\n",
    "\n",
    "# Call the function\n",
    "max_char, max_count = max_occuring_char(input_string)\n",
    "\n",
    "# Output the result\n",
    "if max_char:\n",
    "    print(f\"The highest frequency of the character '{max_char}' appears {max_count} time(s).\")\n",
    "else:\n",
    "    print(\"No characters found.\")"
   ]
  },
  {
   "cell_type": "markdown",
   "id": "944aa823",
   "metadata": {},
   "source": [
    "### 7. Write a program in C# Sharp to sort a string array in ascending order.\n",
    "### Ex: Input string : this is a string \n",
    "### Output : After sorting the string appears like : a g h i i i n r s s s t t "
   ]
  },
  {
   "cell_type": "code",
   "execution_count": 11,
   "id": "73818a03",
   "metadata": {},
   "outputs": [
    {
     "name": "stdout",
     "output_type": "stream",
     "text": [
      "After sorting the string appears like: a g h i i i n r s s s t t\n"
     ]
    }
   ],
   "source": [
    "input_str = 'this is a string'\n",
    "no_space = input_str.replace(' ','')\n",
    "\n",
    "char_list = list(no_space)\n",
    "char_list.sort()\n",
    "\n",
    "sorted_str = ''.join(char_list)\n",
    "\n",
    "print(\"After sorting the string appears like:\", ' '.join(sorted_str))"
   ]
  },
  {
   "cell_type": "code",
   "execution_count": null,
   "id": "d7f21979",
   "metadata": {},
   "outputs": [],
   "source": []
  }
 ],
 "metadata": {
  "kernelspec": {
   "display_name": "Python 3 (ipykernel)",
   "language": "python",
   "name": "python3"
  },
  "language_info": {
   "codemirror_mode": {
    "name": "ipython",
    "version": 3
   },
   "file_extension": ".py",
   "mimetype": "text/x-python",
   "name": "python",
   "nbconvert_exporter": "python",
   "pygments_lexer": "ipython3",
   "version": "3.10.9"
  }
 },
 "nbformat": 4,
 "nbformat_minor": 5
}
