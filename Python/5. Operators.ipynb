{
 "cells": [
  {
   "cell_type": "markdown",
   "id": "e4edb17d",
   "metadata": {},
   "source": [
    "### 1. Write the program to demonstrate the working of Binary Arithmetic Operators ?"
   ]
  },
  {
   "cell_type": "code",
   "execution_count": 1,
   "id": "94efcf4a",
   "metadata": {},
   "outputs": [
    {
     "name": "stdout",
     "output_type": "stream",
     "text": [
      "Addition Operator: 15\n",
      "Subtraction Operator: 5\n",
      "Multiplication Operator: 50\n",
      "Division Operator: 2.0\n",
      "Modulo Operator: 0\n"
     ]
    }
   ],
   "source": [
    "a = 10\n",
    "b = 5\n",
    "\n",
    "operation = ['+', \"-\", \"*\", \"/\", \"%\"]\n",
    "\n",
    "for i in operation:\n",
    "    if i == '+':\n",
    "        print(f'Addition Operator: {a+b}')\n",
    "    elif i == '-':\n",
    "        print(f'Subtraction Operator: {a-b}')\n",
    "    elif i == '*':\n",
    "        print(f'Multiplication Operator: {a*b}')\n",
    "    elif i == '/':\n",
    "        if b != 0:\n",
    "            print(f'Division Operator: {a/b}')\n",
    "        else:\n",
    "            print(\"Error: Division by zero is not allowed.\")\n",
    "    elif i == '%':\n",
    "        print(f'Modulo Operator: {a%b}')\n",
    "    else:\n",
    "        print(\"Invalid operation.\")"
   ]
  },
  {
   "cell_type": "markdown",
   "id": "3c2c4dea",
   "metadata": {},
   "source": [
    "### 2. Write the program to demonstrate the working of Unary Arithmetic Operators ?\n"
   ]
  },
  {
   "cell_type": "code",
   "execution_count": 3,
   "id": "731ff3ff",
   "metadata": {},
   "outputs": [
    {
     "name": "stdout",
     "output_type": "stream",
     "text": [
      "Unary plus of 5 is: 5\n",
      "Unary minus of 5 is: -5\n",
      "After incrementing, num becomes: 6\n",
      "After decrementing, num becomes: 5\n"
     ]
    }
   ],
   "source": [
    "def unary_arithmetic_operators():\n",
    "    num = 5\n",
    "    \n",
    "    # Unary plus\n",
    "    unary_plus = +num\n",
    "    print(f\"Unary plus of {num} is: {unary_plus}\")\n",
    "    \n",
    "    # Unary minus\n",
    "    unary_minus = -num\n",
    "    print(f\"Unary minus of {num} is: {unary_minus}\")\n",
    "    \n",
    "    num += 1  # Incrementing by 1\n",
    "    print(f\"After incrementing, num becomes: {num}\")\n",
    "    \n",
    "    num -= 1  # Decrementing by 1\n",
    "    print(f\"After decrementing, num becomes: {num}\")\n",
    "\n",
    "# Call the function\n",
    "unary_arithmetic_operators()"
   ]
  },
  {
   "cell_type": "markdown",
   "id": "fb3dd25b",
   "metadata": {},
   "source": [
    "### 3. Write the program to demonstrate the working of Relational Operators ?"
   ]
  },
  {
   "cell_type": "code",
   "execution_count": 5,
   "id": "11f6bd61",
   "metadata": {},
   "outputs": [
    {
     "name": "stdout",
     "output_type": "stream",
     "text": [
      "Enter the value of a: 10\n",
      "Enter the value of b: 5\n",
      "\n",
      "Performing operations:\n",
      "\n",
      "Equal to Operator: False\n",
      "Greater than Operator: True\n",
      "Less than Operator: False\n",
      "Greater than or Equal to: True\n",
      "Less than or Equal to: False\n",
      "Not Equal to Operator: True\n"
     ]
    }
   ],
   "source": [
    "def relational_operators():\n",
    "    a = float(input(\"Enter the value of a: \"))\n",
    "    b = float(input(\"Enter the value of b: \"))\n",
    "    \n",
    "    print(\"\\nPerforming operations:\\n\")\n",
    "    \n",
    "    # Equal to operator\n",
    "    print(f\"Equal to Operator: {a == b}\")\n",
    "    \n",
    "    # Greater than operator\n",
    "    print(f\"Greater than Operator: {a > b}\")\n",
    "    \n",
    "    # Less than operator\n",
    "    print(f\"Less than Operator: {a < b}\")\n",
    "    \n",
    "    # Greater than or equal to operator\n",
    "    print(f\"Greater than or Equal to: {a >= b}\")\n",
    "\n",
    "    # Less than or equal to operator\n",
    "    print(f\"Less than or Equal to: {a <= b}\")\n",
    "\n",
    "    # Not equal to operator\n",
    "    print(f\"Not Equal to Operator: {a != b}\")\n",
    "\n",
    "# Call the function\n",
    "relational_operators()"
   ]
  }
 ],
 "metadata": {
  "kernelspec": {
   "display_name": "Python 3 (ipykernel)",
   "language": "python",
   "name": "python3"
  },
  "language_info": {
   "codemirror_mode": {
    "name": "ipython",
    "version": 3
   },
   "file_extension": ".py",
   "mimetype": "text/x-python",
   "name": "python",
   "nbconvert_exporter": "python",
   "pygments_lexer": "ipython3",
   "version": "3.10.9"
  }
 },
 "nbformat": 4,
 "nbformat_minor": 5
}
