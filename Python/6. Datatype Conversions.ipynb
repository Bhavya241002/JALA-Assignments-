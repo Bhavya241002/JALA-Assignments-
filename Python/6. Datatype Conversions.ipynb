{
 "cells": [
  {
   "cell_type": "markdown",
   "id": "4e4e5340",
   "metadata": {},
   "source": [
    "### 1. Write a program to Implicit Type Conversion"
   ]
  },
  {
   "cell_type": "code",
   "execution_count": 1,
   "id": "0f62f160",
   "metadata": {},
   "outputs": [
    {
     "name": "stdout",
     "output_type": "stream",
     "text": [
      "Enter an Int value: 53\n",
      "Int value : 53\n",
      "Enter a Long value: 65\n",
      "Long value : 65\n",
      "Result of Int + Long: 118\n"
     ]
    }
   ],
   "source": [
    "# Function to demonstrate implicit type conversion\n",
    "def implicit_type_conversion():\n",
    "    int_value = int(input(\"Enter an Int value: \"))  \n",
    "    print(f\"Int value : {int_value}\")\n",
    "\n",
    "    # Input: Enter a long value (in Python 3, int can handle long values too)\n",
    "    long_value = int(input(\"Enter a Long value: \"))\n",
    "    print(f\"Long value : {long_value}\")\n",
    "\n",
    "    # Demonstrating implicit type conversion\n",
    "    # Adding int_value and long_value to show implicit conversion\n",
    "    result = int_value + long_value  # Here, int_value (int) is implicitly converted to long if needed\n",
    "    print(f\"Result of Int + Long: {result}\")  # Output the result\n",
    "\n",
    "# Call the function\n",
    "implicit_type_conversion()"
   ]
  },
  {
   "cell_type": "markdown",
   "id": "a8ef9467",
   "metadata": {},
   "source": [
    "### 2. Write an example of explicit type conversion\n"
   ]
  },
  {
   "cell_type": "code",
   "execution_count": 8,
   "id": "6da9c7cb",
   "metadata": {},
   "outputs": [
    {
     "name": "stdout",
     "output_type": "stream",
     "text": [
      "Enter Value of I: 6\n",
      "Value of I is 6 <class 'int'>\n"
     ]
    }
   ],
   "source": [
    "def explicit_type_conversion():\n",
    "    value = input(\"Enter Value of I: \")  \n",
    "    \n",
    "    int_value = int(value)  \n",
    "    \n",
    "    print(f\"Value of I is {int_value}\",type(int_value))\n",
    "\n",
    "explicit_type_conversion()"
   ]
  },
  {
   "cell_type": "markdown",
   "id": "5c730a50",
   "metadata": {},
   "source": [
    "### 3. Write a program of built in type conversion methods\n"
   ]
  },
  {
   "cell_type": "code",
   "execution_count": 10,
   "id": "9a5d903e",
   "metadata": {},
   "outputs": [
    {
     "name": "stdout",
     "output_type": "stream",
     "text": [
      "Type Conversion Demo\n",
      "Enter a number (as a string): 6\n",
      "String to Integer: 6 (Type: <class 'int'>)\n",
      "Enter a float number (as a string): 6.6\n",
      "String to Float: 6.6 (Type: <class 'float'>)\n",
      "Integer to String: '6' (Type: <class 'str'>)\n",
      "Float to String: '6.6' (Type: <class 'str'>)\n",
      "Enter a comma-separated list (e.g., a,b,c): 4,5,3\n",
      "String to List: ['4', '5', '3'] (Type: <class 'list'>)\n",
      "List to String: '4, 5, 3' (Type: <class 'str'>)\n"
     ]
    }
   ],
   "source": [
    "def type_conversion():\n",
    "    print(\"Type Conversion Demo\")\n",
    "    \n",
    "    # Convert string to integer\n",
    "    str_num = input(\"Enter a number (as a string): \")\n",
    "    try:\n",
    "        int_num = int(str_num)\n",
    "        print(f\"String to Integer: {int_num} (Type: {type(int_num)})\")\n",
    "    except ValueError:\n",
    "        print(\"Invalid input for integer conversion.\")\n",
    "\n",
    "    # Convert string to float\n",
    "    str_float = input(\"Enter a float number (as a string): \")\n",
    "    try:\n",
    "        float_num = float(str_float)\n",
    "        print(f\"String to Float: {float_num} (Type: {type(float_num)})\")\n",
    "    except ValueError:\n",
    "        print(\"Invalid input for float conversion.\")\n",
    "\n",
    "    # Convert integer to string\n",
    "    int_to_str = str(int_num)\n",
    "    print(f\"Integer to String: '{int_to_str}' (Type: {type(int_to_str)})\")\n",
    "\n",
    "    # Convert float to string\n",
    "    float_to_str = str(float_num)\n",
    "    print(f\"Float to String: '{float_to_str}' (Type: {type(float_to_str)})\")\n",
    "\n",
    "    # Convert string to list\n",
    "    str_list = input(\"Enter a comma-separated list (e.g., a,b,c): \")\n",
    "    list_from_str = str_list.split(\",\")\n",
    "    print(f\"String to List: {list_from_str} (Type: {type(list_from_str)})\")\n",
    "\n",
    "    # Convert list to string\n",
    "    list_to_str = \", \".join(list_from_str)\n",
    "    print(f\"List to String: '{list_to_str}' (Type: {type(list_to_str)})\")\n",
    "\n",
    "if __name__ == \"__main__\":\n",
    "    type_conversion()\n"
   ]
  },
  {
   "cell_type": "markdown",
   "id": "989b636a",
   "metadata": {},
   "source": [
    "### 4. Write a program that converts various value types to string type\n"
   ]
  },
  {
   "cell_type": "code",
   "execution_count": 15,
   "id": "4470236e",
   "metadata": {},
   "outputs": [
    {
     "name": "stdout",
     "output_type": "stream",
     "text": [
      "Integer: 6 -> String: '6' (Type: <class 'str'>)\n",
      "Float: 6.6 -> String: '6.6' (Type: <class 'str'>)\n",
      "List: [1, 2, 3, 4, 5] -> String: '[1, 2, 3, 4, 5]' (Type: <class 'str'>)\n",
      "Tuple: (1, 2, 3) -> String: '(1, 2, 3)' (Type: <class 'str'>)\n",
      "Dict: {'a': 1, 'b': 2, 'c': 3} -> String: '{'a': 1, 'b': 2, 'c': 3}' (Type: <class 'str'>)\n"
     ]
    }
   ],
   "source": [
    "def to_str(value):\n",
    "    \"\"\"Convert various value types to string.\"\"\"\n",
    "    return str(value)\n",
    "\n",
    "def main():\n",
    "    values = {\n",
    "        \"Integer\": 6,\n",
    "        \"Float\": 6.6,\n",
    "        \"List\": [1, 2, 3, 4, 5],\n",
    "        \"Tuple\": (1, 2, 3),\n",
    "        \"Dict\": {'a': 1, 'b': 2, 'c': 3}\n",
    "    }\n",
    "\n",
    "    for value_type, value in values.items():\n",
    "        str_value = to_str(value)\n",
    "        print(f\"{value_type}: {value} -> String: '{str_value}' (Type: {type(str_value)})\")\n",
    "\n",
    "if __name__ == \"__main__\":\n",
    "    main()\n"
   ]
  },
  {
   "cell_type": "code",
   "execution_count": null,
   "id": "439eecfa",
   "metadata": {},
   "outputs": [],
   "source": []
  }
 ],
 "metadata": {
  "kernelspec": {
   "display_name": "Python 3 (ipykernel)",
   "language": "python",
   "name": "python3"
  },
  "language_info": {
   "codemirror_mode": {
    "name": "ipython",
    "version": 3
   },
   "file_extension": ".py",
   "mimetype": "text/x-python",
   "name": "python",
   "nbconvert_exporter": "python",
   "pygments_lexer": "ipython3",
   "version": "3.10.9"
  }
 },
 "nbformat": 4,
 "nbformat_minor": 5
}
