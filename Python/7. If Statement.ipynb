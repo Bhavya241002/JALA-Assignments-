{
 "cells": [
  {
   "cell_type": "markdown",
   "id": "1e9c994b",
   "metadata": {},
   "source": [
    "### 1. Write a program to check whether a given number is positive or negative."
   ]
  },
  {
   "cell_type": "code",
   "execution_count": 1,
   "id": "728e7a60",
   "metadata": {},
   "outputs": [
    {
     "name": "stdout",
     "output_type": "stream",
     "text": [
      "Enter any number: 6\n",
      "6 is a positive number\n"
     ]
    }
   ],
   "source": [
    "num = int(input('Enter any number: '))\n",
    "\n",
    "if num<0:\n",
    "    print(f'{num} is a negative number')\n",
    "else:\n",
    "    print(f'{num} is a positive number')"
   ]
  },
  {
   "cell_type": "markdown",
   "id": "ec4c397a",
   "metadata": {},
   "source": [
    "### 2. Write a  program to find whether a given year is a leap year or not.\n"
   ]
  },
  {
   "cell_type": "code",
   "execution_count": 2,
   "id": "ee757680",
   "metadata": {},
   "outputs": [
    {
     "name": "stdout",
     "output_type": "stream",
     "text": [
      "Enter a year: 2016\n",
      "2016 is a leap year.\n"
     ]
    }
   ],
   "source": [
    "def is_leap_year(year):\n",
    "    if (year % 4 == 0 and year % 100 != 0) or (year % 400 == 0):\n",
    "        return True\n",
    "    else:\n",
    "        return False\n",
    "\n",
    "# Input year\n",
    "year = int(input(\"Enter a year: \"))\n",
    "\n",
    "# Check if it's a leap year\n",
    "if is_leap_year(year):\n",
    "    print(f\"{year} is a leap year.\")\n",
    "else:\n",
    "    print(f\"{year} is not a leap year.\")\n"
   ]
  },
  {
   "cell_type": "markdown",
   "id": "ace283f2",
   "metadata": {},
   "source": [
    "### 3. Write a program to check whether an alphabet is a vowel or consonant.\n"
   ]
  },
  {
   "cell_type": "code",
   "execution_count": 9,
   "id": "f3037b29",
   "metadata": {},
   "outputs": [
    {
     "name": "stdout",
     "output_type": "stream",
     "text": [
      "Enter any alphabet: I\n",
      "I is a vowel\n"
     ]
    }
   ],
   "source": [
    "alph = input('Enter any alphabet: ')\n",
    "\n",
    "if alph in 'aeiouAEIOU':\n",
    "    print(f'{alph} is a vowel')\n",
    "else:\n",
    "    print(f'{alph} is a consonant')"
   ]
  },
  {
   "cell_type": "code",
   "execution_count": null,
   "id": "e27989c7",
   "metadata": {},
   "outputs": [],
   "source": []
  },
  {
   "cell_type": "code",
   "execution_count": null,
   "id": "e56d6fa6",
   "metadata": {},
   "outputs": [],
   "source": []
  }
 ],
 "metadata": {
  "kernelspec": {
   "display_name": "Python 3 (ipykernel)",
   "language": "python",
   "name": "python3"
  },
  "language_info": {
   "codemirror_mode": {
    "name": "ipython",
    "version": 3
   },
   "file_extension": ".py",
   "mimetype": "text/x-python",
   "name": "python",
   "nbconvert_exporter": "python",
   "pygments_lexer": "ipython3",
   "version": "3.10.9"
  }
 },
 "nbformat": 4,
 "nbformat_minor": 5
}
