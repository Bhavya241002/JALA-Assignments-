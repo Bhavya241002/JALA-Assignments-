{
 "cells": [
  {
   "cell_type": "markdown",
   "id": "1bd59753",
   "metadata": {},
   "source": [
    "### 1. Write a program to display n terms of natural number and their sum.\n"
   ]
  },
  {
   "cell_type": "code",
   "execution_count": 1,
   "id": "05601891",
   "metadata": {},
   "outputs": [
    {
     "name": "stdout",
     "output_type": "stream",
     "text": [
      "Enter the number of terms (n): 6\n",
      "The first 6 natural numbers are:\n",
      "[1, 2, 3, 4, 5, 6]\n",
      "The sum of the first 6 natural numbers is: 21\n"
     ]
    }
   ],
   "source": [
    "def numbers_sum(n):\n",
    "    natural_num = list(range(1, n + 1))  \n",
    "    total_sum = sum(natural_num)\n",
    "    \n",
    "    print(f\"The first {n} natural numbers are:\")\n",
    "    print(natural_num)\n",
    "    \n",
    "    print(f\"The sum of the first {n} natural numbers is: {total_sum}\")\n",
    "\n",
    "n = int(input(\"Enter the number of terms (n): \"))\n",
    "\n",
    "numbers_sum(n)"
   ]
  },
  {
   "cell_type": "markdown",
   "id": "b03152b5",
   "metadata": {},
   "source": [
    "### 2. Write a program in C# Sharp to display the n terms of odd natural number and their sum."
   ]
  },
  {
   "cell_type": "code",
   "execution_count": 2,
   "id": "cf02db98",
   "metadata": {},
   "outputs": [
    {
     "name": "stdout",
     "output_type": "stream",
     "text": [
      "Enter the number of terms (n): 6\n",
      "The first 6 odd natural numbers are:\n",
      "1 3 5 7 9 11 \n",
      "The sum of the first 6 odd natural numbers is: 36\n"
     ]
    }
   ],
   "source": [
    "def odd_numbers_sum(n):\n",
    "    sum_of_odds = 0\n",
    "\n",
    "    print(f\"The first {n} odd natural numbers are:\")\n",
    "    \n",
    "    for i in range(1, 2 * n, 2):  # i starts from 1, increments by 2 to get odd numbers\n",
    "        print(i, end=\" \")  \n",
    "        sum_of_odds += i   \n",
    "    \n",
    "    print(f\"\\nThe sum of the first {n} odd natural numbers is: {sum_of_odds}\")\n",
    "\n",
    "# Input: number of terms\n",
    "n = int(input(\"Enter the number of terms (n): \"))\n",
    "\n",
    "odd_numbers_sum(n)"
   ]
  },
  {
   "cell_type": "markdown",
   "id": "94e0d2ac",
   "metadata": {},
   "source": [
    "### 3. By using Array write the program using For and Foreach loop \n"
   ]
  },
  {
   "cell_type": "code",
   "execution_count": 5,
   "id": "d8931d76",
   "metadata": {},
   "outputs": [
    {
     "name": "stdout",
     "output_type": "stream",
     "text": [
      "Enter the number of elements in the array: 16\n",
      "Enter element 1: j\n",
      "Enter element 2: a\n",
      "Enter element 3: l\n",
      "Enter element 4: a\n",
      "Enter element 5: t\n",
      "Enter element 6: e\n",
      "Enter element 7: c\n",
      "Enter element 8: h\n",
      "Enter element 9: n\n",
      "Enter element 10: o\n",
      "Enter element 11: l\n",
      "Enter element 12: o\n",
      "Enter element 13: g\n",
      "Enter element 14: i\n",
      "Enter element 15: e\n",
      "Enter element 16: s\n",
      "\n",
      "Array printing using for loop:\n",
      "j\n",
      "a\n",
      "l\n",
      "a\n",
      "t\n",
      "e\n",
      "c\n",
      "h\n",
      "n\n",
      "o\n",
      "l\n",
      "o\n",
      "g\n",
      "i\n",
      "e\n",
      "s\n",
      "\n",
      "Array printing using ForEach loop:\n",
      "j\n",
      "a\n",
      "l\n",
      "a\n",
      "t\n",
      "e\n",
      "c\n",
      "h\n",
      "n\n",
      "o\n",
      "l\n",
      "o\n",
      "g\n",
      "i\n",
      "e\n",
      "s\n"
     ]
    }
   ],
   "source": [
    "n = int(input(\"Enter the number of elements in the array: \"))\n",
    "\n",
    "words = []\n",
    "\n",
    "# Input: Getting array elements from the user\n",
    "for i in range(n):\n",
    "    word = input(f\"Enter element {i + 1}: \")\n",
    "    words.append(word)\n",
    "\n",
    "# Printing using a 'for' loop with index\n",
    "print(\"\\nArray printing using for loop:\")\n",
    "for i in range(len(words)):\n",
    "    print(words[i])\n",
    "\n",
    "# Printing using a 'foreach' loop (Python's for-each style)\n",
    "print(\"\\nArray printing using ForEach loop:\")\n",
    "for word in words:\n",
    "    print(word)\n"
   ]
  },
  {
   "cell_type": "code",
   "execution_count": null,
   "id": "0eafc456",
   "metadata": {},
   "outputs": [],
   "source": []
  }
 ],
 "metadata": {
  "kernelspec": {
   "display_name": "Python 3 (ipykernel)",
   "language": "python",
   "name": "python3"
  },
  "language_info": {
   "codemirror_mode": {
    "name": "ipython",
    "version": 3
   },
   "file_extension": ".py",
   "mimetype": "text/x-python",
   "name": "python",
   "nbconvert_exporter": "python",
   "pygments_lexer": "ipython3",
   "version": "3.10.9"
  }
 },
 "nbformat": 4,
 "nbformat_minor": 5
}
