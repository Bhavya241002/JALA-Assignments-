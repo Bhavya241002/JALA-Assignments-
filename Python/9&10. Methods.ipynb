{
 "cells": [
  {
   "cell_type": "markdown",
   "id": "79a22cd2",
   "metadata": {},
   "source": [
    "### 1. Write a method of Calculator and print sum and product "
   ]
  },
  {
   "cell_type": "code",
   "execution_count": 1,
   "id": "01bb0c49",
   "metadata": {},
   "outputs": [
    {
     "name": "stdout",
     "output_type": "stream",
     "text": [
      "Enter a value: 6\n",
      "Enter b value: 3\n",
      "Sum = 9 & Product = 18\n"
     ]
    }
   ],
   "source": [
    "def calculator(a,b):\n",
    "    add = a+b\n",
    "    product = a*b\n",
    "    \n",
    "    print(f'Sum = {add} & Product = {product}')\n",
    "    \n",
    "a = int(input('Enter a value: '))\n",
    "b = int(input('Enter b value: '))\n",
    "    \n",
    "calculator(6,3)"
   ]
  },
  {
   "cell_type": "markdown",
   "id": "7a569079",
   "metadata": {},
   "source": [
    "###  2. Write a program using parameter arrays and print output \n"
   ]
  },
  {
   "cell_type": "code",
   "execution_count": 2,
   "id": "31a73bee",
   "metadata": {},
   "outputs": [
    {
     "name": "stdout",
     "output_type": "stream",
     "text": [
      "The sum of the given numbers is: 15\n",
      "The sum of the given numbers is: 60\n",
      "The sum of the given numbers is: 300\n",
      "The sum of the given numbers is: 50\n"
     ]
    }
   ],
   "source": [
    "# Method using *args to calculate and print the sum of numbers\n",
    "def print_sum(*numbers):\n",
    "    # Calculate the sum of the numbers\n",
    "    sum_value = sum(numbers)\n",
    "    \n",
    "    # Print the result\n",
    "    print(f\"The sum of the given numbers is: {sum_value}\")\n",
    "\n",
    "# Main function\n",
    "if __name__ == \"__main__\":\n",
    "    # Calling print_sum function with different numbers of arguments\n",
    "    print_sum(1, 2, 3, 4, 5)\n",
    "    print_sum(10, 20, 30)\n",
    "    print_sum(100, 200)\n",
    "\n",
    "    # Using an array as input (unpacking with *)\n",
    "    array = [5, 10, 15, 20]\n",
    "    print_sum(*array)\n"
   ]
  },
  {
   "cell_type": "markdown",
   "id": "754a685d",
   "metadata": {},
   "source": [
    "### 3. Write a program to print entered number of even numbers"
   ]
  },
  {
   "cell_type": "code",
   "execution_count": 5,
   "id": "eb9ad40d",
   "metadata": {},
   "outputs": [
    {
     "name": "stdout",
     "output_type": "stream",
     "text": [
      "Enter the number of even numbers to print: 6\n",
      "0\n",
      "2\n",
      "4\n",
      "6\n",
      "8\n",
      "10\n"
     ]
    }
   ],
   "source": [
    "def print_even_num(count):\n",
    "    number = 0\n",
    "    printed_count = 0\n",
    "\n",
    "    while printed_count < count:\n",
    "        if number % 2 == 0:\n",
    "            print(number)\n",
    "            printed_count += 1\n",
    "        number += 1\n",
    "\n",
    "if __name__ == \"__main__\":\n",
    "    count = int(input(\"Enter the number of even numbers to print: \"))\n",
    "\n",
    "    print_even_num(count);\n"
   ]
  },
  {
   "cell_type": "code",
   "execution_count": null,
   "id": "f5327040",
   "metadata": {},
   "outputs": [],
   "source": []
  }
 ],
 "metadata": {
  "kernelspec": {
   "display_name": "Python 3 (ipykernel)",
   "language": "python",
   "name": "python3"
  },
  "language_info": {
   "codemirror_mode": {
    "name": "ipython",
    "version": 3
   },
   "file_extension": ".py",
   "mimetype": "text/x-python",
   "name": "python",
   "nbconvert_exporter": "python",
   "pygments_lexer": "ipython3",
   "version": "3.10.9"
  }
 },
 "nbformat": 4,
 "nbformat_minor": 5
}
