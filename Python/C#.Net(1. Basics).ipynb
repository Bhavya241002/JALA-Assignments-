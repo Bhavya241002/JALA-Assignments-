{
 "cells": [
  {
   "cell_type": "markdown",
   "id": "027b75d5",
   "metadata": {},
   "source": [
    "# Basics"
   ]
  },
  {
   "cell_type": "markdown",
   "id": "1f183b8a",
   "metadata": {},
   "source": [
    "### 1. Declare a variable of data type int with name empID "
   ]
  },
  {
   "cell_type": "code",
   "execution_count": 1,
   "id": "6bd9c356",
   "metadata": {},
   "outputs": [
    {
     "name": "stdout",
     "output_type": "stream",
     "text": [
      "Enter any number:6\n"
     ]
    }
   ],
   "source": [
    "empID = int(input('Enter any number:'))"
   ]
  },
  {
   "cell_type": "markdown",
   "id": "80c93e98",
   "metadata": {},
   "source": [
    "### 2. Declare a variable of data type string with name empName "
   ]
  },
  {
   "cell_type": "code",
   "execution_count": 2,
   "id": "a5a17e97",
   "metadata": {},
   "outputs": [
    {
     "name": "stdout",
     "output_type": "stream",
     "text": [
      "Enter any string:Bhavya\n"
     ]
    }
   ],
   "source": [
    "empName = str(input(\"Enter any string:\"))"
   ]
  },
  {
   "cell_type": "markdown",
   "id": "8ec9c2d7",
   "metadata": {},
   "source": [
    "### 3. Assign a value 5 for the empId variable and print the value of empId on console"
   ]
  },
  {
   "cell_type": "code",
   "execution_count": 3,
   "id": "3dce2886",
   "metadata": {},
   "outputs": [
    {
     "name": "stdout",
     "output_type": "stream",
     "text": [
      "Enter any number:3\n",
      "3\n"
     ]
    }
   ],
   "source": [
    "empID = int(input('Enter any number:'))\n",
    "print(empID)  "
   ]
  },
  {
   "cell_type": "markdown",
   "id": "1dfc32e0",
   "metadata": {},
   "source": [
    "### 4. Assign a value \"Puja\" for the empName variable and print the value of empId on console  "
   ]
  },
  {
   "cell_type": "code",
   "execution_count": 4,
   "id": "1a3d980d",
   "metadata": {},
   "outputs": [
    {
     "name": "stdout",
     "output_type": "stream",
     "text": [
      "Enter any string:Puja\n",
      "Puja\n"
     ]
    }
   ],
   "source": [
    "empName = str(input(\"Enter any string:\"))\n",
    "print(empName)"
   ]
  },
  {
   "cell_type": "markdown",
   "id": "ee11ba25",
   "metadata": {},
   "source": [
    "### 5. Write a program to check whether it is odd or even \n",
    "###      Ex: Input - 2\n",
    "###      Output - even\n"
   ]
  },
  {
   "cell_type": "code",
   "execution_count": 6,
   "id": "037bfaf1",
   "metadata": {},
   "outputs": [
    {
     "name": "stdout",
     "output_type": "stream",
     "text": [
      "Enter any number: 7\n",
      "The output is odd\n"
     ]
    }
   ],
   "source": [
    "num = int(input('Enter any number: '))\n",
    "\n",
    "if num%2 == 0:\n",
    "    print('The output is even')\n",
    "else:\n",
    "    print('The output is odd')"
   ]
  },
  {
   "cell_type": "markdown",
   "id": "5b7493f5",
   "metadata": {},
   "source": [
    "### 6. Write a program to swap 2 numbers \n",
    "### Ex : Input - 22,65\n",
    "### Output - 65,22"
   ]
  },
  {
   "cell_type": "code",
   "execution_count": 16,
   "id": "694982ad",
   "metadata": {},
   "outputs": [
    {
     "name": "stdout",
     "output_type": "stream",
     "text": [
      "Enter first number:22\n",
      "Enter second number:65\n",
      "Input - 2265\n",
      "Output - 6522\n"
     ]
    }
   ],
   "source": [
    "num1 = int(input('Enter first number:'))\n",
    "num2=int(input('Enter second number:'))\n",
    "\n",
    "print(f'Input - {num1}{num2}')\n",
    "\n",
    "num1,num2 =num2,num1\n",
    "\n",
    "print(f'Output - {num1}{num2}')"
   ]
  },
  {
   "cell_type": "code",
   "execution_count": null,
   "id": "4f2034cd",
   "metadata": {},
   "outputs": [],
   "source": []
  }
 ],
 "metadata": {
  "kernelspec": {
   "display_name": "Python 3 (ipykernel)",
   "language": "python",
   "name": "python3"
  },
  "language_info": {
   "codemirror_mode": {
    "name": "ipython",
    "version": 3
   },
   "file_extension": ".py",
   "mimetype": "text/x-python",
   "name": "python",
   "nbconvert_exporter": "python",
   "pygments_lexer": "ipython3",
   "version": "3.10.9"
  }
 },
 "nbformat": 4,
 "nbformat_minor": 5
}
